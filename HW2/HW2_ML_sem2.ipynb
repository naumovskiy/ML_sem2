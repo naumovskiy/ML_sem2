{
  "nbformat": 4,
  "nbformat_minor": 0,
  "metadata": {
    "colab": {
      "name": "HW2_ML_sem2.ipynb",
      "provenance": [],
      "collapsed_sections": [],
      "toc_visible": true
    },
    "kernelspec": {
      "name": "python3",
      "display_name": "Python 3"
    },
    "language_info": {
      "name": "python"
    }
  },
  "cells": [
    {
      "cell_type": "markdown",
      "metadata": {
        "id": "l224kEeTRDQX"
      },
      "source": [
        "# Продвинутое машинное обучение: Домашнее задание 2\n"
      ]
    },
    {
      "cell_type": "markdown",
      "metadata": {
        "id": "ZfSL0Bv4RS36"
      },
      "source": [
        "Студент: Наумовский Алексей \\\n",
        "Группа: DS-22"
      ]
    },
    {
      "cell_type": "code",
      "metadata": {
        "id": "CvW9CTAuPxHb"
      },
      "source": [
        "import sklearn.metrics as metrics\n",
        "from sklearn.linear_model import LogisticRegression\n",
        "from sklearn.preprocessing import OneHotEncoder\n",
        "import pandas as pd\n",
        "import numpy as np\n",
        "import re\n",
        "import matplotlib.pyplot as plt\n",
        "from scipy.sparse import coo_matrix, hstack\n",
        "import scipy.stats as stats\n",
        "from scipy import sparse as sp\n",
        "from scipy.special import expit\n",
        "from tqdm import tqdm\n",
        "\n",
        "from warnings import filterwarnings\n",
        "%matplotlib inline\n",
        "filterwarnings('ignore')\n",
        "import seaborn as sns"
      ],
      "execution_count": 1,
      "outputs": []
    },
    {
      "cell_type": "code",
      "metadata": {
        "colab": {
          "base_uri": "https://localhost:8080/"
        },
        "id": "vvvqn7EQQNej",
        "outputId": "9b59a00b-e350-4645-d272-520a3c4a4d76"
      },
      "source": [
        "from google.colab import drive\n",
        "drive.mount('/content/drive')"
      ],
      "execution_count": 2,
      "outputs": [
        {
          "output_type": "stream",
          "text": [
            "Mounted at /content/drive\n"
          ],
          "name": "stdout"
        }
      ]
    },
    {
      "cell_type": "code",
      "metadata": {
        "colab": {
          "base_uri": "https://localhost:8080/"
        },
        "id": "d48RFe1KQR96",
        "outputId": "f0830b0f-6cb0-4de3-e8d8-16034f54d47e"
      },
      "source": [
        "%cd /content/drive/MyDrive/Dataset/chgk\n",
        "!ls"
      ],
      "execution_count": 3,
      "outputs": [
        {
          "output_type": "stream",
          "text": [
            "/content/drive/MyDrive/Dataset/chgk\n",
            "players.pkl  results.pkl  tournaments.pkl\n"
          ],
          "name": "stdout"
        }
      ]
    },
    {
      "cell_type": "code",
      "metadata": {
        "id": "1V33AwTMQkca"
      },
      "source": [
        "# укажите путь до датасета:\n",
        "path_dataset = \"/content/drive/MyDrive/Dataset/chgk/\""
      ],
      "execution_count": 4,
      "outputs": []
    },
    {
      "cell_type": "markdown",
      "metadata": {
        "id": "U6DQ6OsENtk7"
      },
      "source": [
        "## 1) Прочитайте и проанализируйте данные, выберите турниры, в которых есть данные о составах команд и повопросных результатах (поле mask в results.pkl)"
      ]
    },
    {
      "cell_type": "markdown",
      "metadata": {
        "id": "ddZGbiecNx1e"
      },
      "source": [
        "#### Players:"
      ]
    },
    {
      "cell_type": "code",
      "metadata": {
        "id": "B_mv21oEK1aI"
      },
      "source": [
        "df_players = pd.DataFrame(pd.read_pickle(path_dataset+'players.pkl')).T\n",
        "df_players.columns = ['player_id','name','patronymic','surname']\n",
        "df_players['fname'] =  df_players.apply(lambda x: x['name'] +' '+ x['surname'], axis=1)\n",
        "df_players = df_players.drop(columns=['name','surname','patronymic']).set_index('player_id')"
      ],
      "execution_count": 5,
      "outputs": []
    },
    {
      "cell_type": "code",
      "metadata": {
        "colab": {
          "base_uri": "https://localhost:8080/",
          "height": 225
        },
        "id": "E5L9ILctsIgg",
        "outputId": "66018979-8f40-4eb9-b90a-f63fa4d05928"
      },
      "source": [
        "df_players.sample(5)"
      ],
      "execution_count": 6,
      "outputs": [
        {
          "output_type": "execute_result",
          "data": {
            "text/html": [
              "<div>\n",
              "<style scoped>\n",
              "    .dataframe tbody tr th:only-of-type {\n",
              "        vertical-align: middle;\n",
              "    }\n",
              "\n",
              "    .dataframe tbody tr th {\n",
              "        vertical-align: top;\n",
              "    }\n",
              "\n",
              "    .dataframe thead th {\n",
              "        text-align: right;\n",
              "    }\n",
              "</style>\n",
              "<table border=\"1\" class=\"dataframe\">\n",
              "  <thead>\n",
              "    <tr style=\"text-align: right;\">\n",
              "      <th></th>\n",
              "      <th>fname</th>\n",
              "    </tr>\n",
              "    <tr>\n",
              "      <th>player_id</th>\n",
              "      <th></th>\n",
              "    </tr>\n",
              "  </thead>\n",
              "  <tbody>\n",
              "    <tr>\n",
              "      <th>111094</th>\n",
              "      <td>Антон Артанов</td>\n",
              "    </tr>\n",
              "    <tr>\n",
              "      <th>40180</th>\n",
              "      <td>Ася Балышева</td>\n",
              "    </tr>\n",
              "    <tr>\n",
              "      <th>11577</th>\n",
              "      <td>Дарья Зверева</td>\n",
              "    </tr>\n",
              "    <tr>\n",
              "      <th>191554</th>\n",
              "      <td>Владимир Землянский</td>\n",
              "    </tr>\n",
              "    <tr>\n",
              "      <th>52756</th>\n",
              "      <td>Евгений Дёмин</td>\n",
              "    </tr>\n",
              "  </tbody>\n",
              "</table>\n",
              "</div>"
            ],
            "text/plain": [
              "                         fname\n",
              "player_id                     \n",
              "111094           Антон Артанов\n",
              "40180             Ася Балышева\n",
              "11577            Дарья Зверева\n",
              "191554     Владимир Землянский\n",
              "52756            Евгений Дёмин"
            ]
          },
          "metadata": {
            "tags": []
          },
          "execution_count": 6
        }
      ]
    },
    {
      "cell_type": "code",
      "metadata": {
        "colab": {
          "base_uri": "https://localhost:8080/",
          "height": 166
        },
        "id": "AtETp5rwkZIX",
        "outputId": "56320a67-936a-4d00-9595-c129382f9a05"
      },
      "source": [
        "df_players.describe()"
      ],
      "execution_count": 7,
      "outputs": [
        {
          "output_type": "execute_result",
          "data": {
            "text/html": [
              "<div>\n",
              "<style scoped>\n",
              "    .dataframe tbody tr th:only-of-type {\n",
              "        vertical-align: middle;\n",
              "    }\n",
              "\n",
              "    .dataframe tbody tr th {\n",
              "        vertical-align: top;\n",
              "    }\n",
              "\n",
              "    .dataframe thead th {\n",
              "        text-align: right;\n",
              "    }\n",
              "</style>\n",
              "<table border=\"1\" class=\"dataframe\">\n",
              "  <thead>\n",
              "    <tr style=\"text-align: right;\">\n",
              "      <th></th>\n",
              "      <th>fname</th>\n",
              "    </tr>\n",
              "  </thead>\n",
              "  <tbody>\n",
              "    <tr>\n",
              "      <th>count</th>\n",
              "      <td>204063</td>\n",
              "    </tr>\n",
              "    <tr>\n",
              "      <th>unique</th>\n",
              "      <td>167109</td>\n",
              "    </tr>\n",
              "    <tr>\n",
              "      <th>top</th>\n",
              "      <td>Александр Иванов</td>\n",
              "    </tr>\n",
              "    <tr>\n",
              "      <th>freq</th>\n",
              "      <td>55</td>\n",
              "    </tr>\n",
              "  </tbody>\n",
              "</table>\n",
              "</div>"
            ],
            "text/plain": [
              "                   fname\n",
              "count             204063\n",
              "unique            167109\n",
              "top     Александр Иванов\n",
              "freq                  55"
            ]
          },
          "metadata": {
            "tags": []
          },
          "execution_count": 7
        }
      ]
    },
    {
      "cell_type": "markdown",
      "metadata": {
        "id": "bhNv8jH8euKG"
      },
      "source": [
        "#### Tournaments:"
      ]
    },
    {
      "cell_type": "code",
      "metadata": {
        "id": "qbm2nGNsQqMo"
      },
      "source": [
        "df_tournaments = pd.DataFrame(pd.DataFrame(pd.read_pickle(path_dataset+'tournaments.pkl')).T)\n",
        "df_tournaments = df_tournaments.drop(columns=['dateEnd','type','season','orgcommittee','synchData','questionQty'])\n",
        "df_tournaments['dateStart'] =  pd.to_datetime(df_tournaments['dateStart'],utc=True).dt.year\n",
        "df_tournaments.columns = ['tournament_id','tname','dateStart']\n",
        "df_tournaments = df_tournaments.set_index('tournament_id')\n",
        "\n",
        "df_tournaments_train = df_tournaments[df_tournaments['dateStart'] == 2019]\n",
        "df_tournaments_test = df_tournaments[df_tournaments['dateStart'] == 2020]"
      ],
      "execution_count": 8,
      "outputs": []
    },
    {
      "cell_type": "code",
      "metadata": {
        "colab": {
          "base_uri": "https://localhost:8080/"
        },
        "id": "pU_Uvk7wLxNR",
        "outputId": "ee01b7f3-1473-4d27-87ff-e8f0e93ae3c8"
      },
      "source": [
        "print(f'min, max indexes TRAIN tournaments:{(min(df_tournaments_train.index),max(df_tournaments_train.index))}; shape={df_tournaments_train.shape}')\n",
        "print(f'min, max indexes TEST tournaments:{(min(df_tournaments_test.index),max(df_tournaments_test.index))}; shape={df_tournaments_test.shape}') "
      ],
      "execution_count": 9,
      "outputs": [
        {
          "output_type": "stream",
          "text": [
            "min, max indexes TRAIN tournaments:(4772, 6370); shape=(689, 2)\n",
            "min, max indexes TEST tournaments:(4628, 6485); shape=(416, 2)\n"
          ],
          "name": "stdout"
        }
      ]
    },
    {
      "cell_type": "markdown",
      "metadata": {
        "id": "h4FOQOxvthBk"
      },
      "source": [
        "#### Results:"
      ]
    },
    {
      "cell_type": "code",
      "metadata": {
        "id": "F6BmMbq3tlH0"
      },
      "source": [
        "df_results = pd.read_pickle(path_dataset+'results.pkl')"
      ],
      "execution_count": 10,
      "outputs": []
    },
    {
      "cell_type": "code",
      "metadata": {
        "id": "Y9Vg8ky8kS8K"
      },
      "source": [
        "def get_players_results(df_tournaments, df_results):\n",
        "    results =[]\n",
        "    question_global_id = 0\n",
        "    # Все турниры\n",
        "    for cur_tour_id in df_tournaments.index:\n",
        "        try:\n",
        "            # Исключаем игры без маски\n",
        "            if df_results[cur_tour_id][0]['mask'] == None:\n",
        "                continue\n",
        "        except:\n",
        "            continue\n",
        "        # Исключаем турниры с разным количеством вопросов в играх\n",
        "        if len(pd.DataFrame(df_results[cur_tour_id])['mask'].apply(lambda x: len(str(x))).value_counts()) != 1:\n",
        "            continue\n",
        "        # Все игры в турнире\n",
        "        for cur_game in df_results[cur_tour_id]:\n",
        "            mask = cur_game['mask']\n",
        "            mask_len = len(str(mask))\n",
        "            # Исключаем игры с ошибками в результатах (в маске не 0/1)\n",
        "            if re.findall('[^01]', str(mask)):\n",
        "                continue\n",
        "            mask_sum = sum([int(digit) for digit in str(mask)])\n",
        "            team_id = cur_game['team']['id']\n",
        "            # Все игроки в текущей игре\n",
        "            for player in cur_game['teamMembers']:\n",
        "                player_id = player['player']['id']\n",
        "                # Все вопросы(для каждого игрока) в текушей игре\n",
        "                for question_id, answer in zip(np.arange(0, mask_len), str(mask)):\n",
        "                    results.append([cur_tour_id, team_id, player_id, mask,\\\n",
        "                                    (question_global_id + question_id), np.int32(answer), mask_len, mask_sum])\n",
        "        question_global_id = question_global_id + mask_len\n",
        "    return pd.DataFrame(results, columns=['tournament_id','team_id','player_id', 'mask',\\\n",
        "                                          'question_id', 'answer', 'mask_len', 'mask_sum']).set_index('tournament_id')"
      ],
      "execution_count": 11,
      "outputs": []
    },
    {
      "cell_type": "markdown",
      "metadata": {
        "id": "7hP8yYYqNVgp"
      },
      "source": [
        "##### Players results TRAIN"
      ]
    },
    {
      "cell_type": "code",
      "metadata": {
        "colab": {
          "base_uri": "https://localhost:8080/"
        },
        "id": "NQqujVq5DVHs",
        "outputId": "dcac288e-9126-41ff-bbe6-9f88cbc4bd59"
      },
      "source": [
        "df_train_res_players = get_players_results(df_tournaments_train, df_results)\n",
        "print(f'Tournaments count TRAIN:{df_train_res_players.index.nunique()}')"
      ],
      "execution_count": 12,
      "outputs": [
        {
          "output_type": "stream",
          "text": [
            "Tournaments count TRAIN:602\n"
          ],
          "name": "stdout"
        }
      ]
    },
    {
      "cell_type": "code",
      "metadata": {
        "colab": {
          "base_uri": "https://localhost:8080/",
          "height": 373
        },
        "id": "rIaKfPPsLtme",
        "outputId": "2202446b-e642-4709-c407-acedcd5d3498"
      },
      "source": [
        "# Проверим правильно ли проставляется question_id:\n",
        "df_train_res_players.iloc[30:40]"
      ],
      "execution_count": 13,
      "outputs": [
        {
          "output_type": "execute_result",
          "data": {
            "text/html": [
              "<div>\n",
              "<style scoped>\n",
              "    .dataframe tbody tr th:only-of-type {\n",
              "        vertical-align: middle;\n",
              "    }\n",
              "\n",
              "    .dataframe tbody tr th {\n",
              "        vertical-align: top;\n",
              "    }\n",
              "\n",
              "    .dataframe thead th {\n",
              "        text-align: right;\n",
              "    }\n",
              "</style>\n",
              "<table border=\"1\" class=\"dataframe\">\n",
              "  <thead>\n",
              "    <tr style=\"text-align: right;\">\n",
              "      <th></th>\n",
              "      <th>team_id</th>\n",
              "      <th>player_id</th>\n",
              "      <th>mask</th>\n",
              "      <th>question_id</th>\n",
              "      <th>answer</th>\n",
              "      <th>mask_len</th>\n",
              "      <th>mask_sum</th>\n",
              "    </tr>\n",
              "    <tr>\n",
              "      <th>tournament_id</th>\n",
              "      <th></th>\n",
              "      <th></th>\n",
              "      <th></th>\n",
              "      <th></th>\n",
              "      <th></th>\n",
              "      <th></th>\n",
              "      <th></th>\n",
              "    </tr>\n",
              "  </thead>\n",
              "  <tbody>\n",
              "    <tr>\n",
              "      <th>4772</th>\n",
              "      <td>45556</td>\n",
              "      <td>6212</td>\n",
              "      <td>111111111011111110111111111100010010</td>\n",
              "      <td>30</td>\n",
              "      <td>0</td>\n",
              "      <td>36</td>\n",
              "      <td>28</td>\n",
              "    </tr>\n",
              "    <tr>\n",
              "      <th>4772</th>\n",
              "      <td>45556</td>\n",
              "      <td>6212</td>\n",
              "      <td>111111111011111110111111111100010010</td>\n",
              "      <td>31</td>\n",
              "      <td>1</td>\n",
              "      <td>36</td>\n",
              "      <td>28</td>\n",
              "    </tr>\n",
              "    <tr>\n",
              "      <th>4772</th>\n",
              "      <td>45556</td>\n",
              "      <td>6212</td>\n",
              "      <td>111111111011111110111111111100010010</td>\n",
              "      <td>32</td>\n",
              "      <td>0</td>\n",
              "      <td>36</td>\n",
              "      <td>28</td>\n",
              "    </tr>\n",
              "    <tr>\n",
              "      <th>4772</th>\n",
              "      <td>45556</td>\n",
              "      <td>6212</td>\n",
              "      <td>111111111011111110111111111100010010</td>\n",
              "      <td>33</td>\n",
              "      <td>0</td>\n",
              "      <td>36</td>\n",
              "      <td>28</td>\n",
              "    </tr>\n",
              "    <tr>\n",
              "      <th>4772</th>\n",
              "      <td>45556</td>\n",
              "      <td>6212</td>\n",
              "      <td>111111111011111110111111111100010010</td>\n",
              "      <td>34</td>\n",
              "      <td>1</td>\n",
              "      <td>36</td>\n",
              "      <td>28</td>\n",
              "    </tr>\n",
              "    <tr>\n",
              "      <th>4772</th>\n",
              "      <td>45556</td>\n",
              "      <td>6212</td>\n",
              "      <td>111111111011111110111111111100010010</td>\n",
              "      <td>35</td>\n",
              "      <td>0</td>\n",
              "      <td>36</td>\n",
              "      <td>28</td>\n",
              "    </tr>\n",
              "    <tr>\n",
              "      <th>4772</th>\n",
              "      <td>45556</td>\n",
              "      <td>18332</td>\n",
              "      <td>111111111011111110111111111100010010</td>\n",
              "      <td>0</td>\n",
              "      <td>1</td>\n",
              "      <td>36</td>\n",
              "      <td>28</td>\n",
              "    </tr>\n",
              "    <tr>\n",
              "      <th>4772</th>\n",
              "      <td>45556</td>\n",
              "      <td>18332</td>\n",
              "      <td>111111111011111110111111111100010010</td>\n",
              "      <td>1</td>\n",
              "      <td>1</td>\n",
              "      <td>36</td>\n",
              "      <td>28</td>\n",
              "    </tr>\n",
              "    <tr>\n",
              "      <th>4772</th>\n",
              "      <td>45556</td>\n",
              "      <td>18332</td>\n",
              "      <td>111111111011111110111111111100010010</td>\n",
              "      <td>2</td>\n",
              "      <td>1</td>\n",
              "      <td>36</td>\n",
              "      <td>28</td>\n",
              "    </tr>\n",
              "    <tr>\n",
              "      <th>4772</th>\n",
              "      <td>45556</td>\n",
              "      <td>18332</td>\n",
              "      <td>111111111011111110111111111100010010</td>\n",
              "      <td>3</td>\n",
              "      <td>1</td>\n",
              "      <td>36</td>\n",
              "      <td>28</td>\n",
              "    </tr>\n",
              "  </tbody>\n",
              "</table>\n",
              "</div>"
            ],
            "text/plain": [
              "               team_id  player_id  ... mask_len  mask_sum\n",
              "tournament_id                      ...                   \n",
              "4772             45556       6212  ...       36        28\n",
              "4772             45556       6212  ...       36        28\n",
              "4772             45556       6212  ...       36        28\n",
              "4772             45556       6212  ...       36        28\n",
              "4772             45556       6212  ...       36        28\n",
              "4772             45556       6212  ...       36        28\n",
              "4772             45556      18332  ...       36        28\n",
              "4772             45556      18332  ...       36        28\n",
              "4772             45556      18332  ...       36        28\n",
              "4772             45556      18332  ...       36        28\n",
              "\n",
              "[10 rows x 7 columns]"
            ]
          },
          "metadata": {
            "tags": []
          },
          "execution_count": 13
        }
      ]
    },
    {
      "cell_type": "code",
      "metadata": {
        "colab": {
          "base_uri": "https://localhost:8080/",
          "height": 686
        },
        "id": "dyA_xxAUn4pi",
        "outputId": "533a7577-47f1-43e7-e290-f405eef51065"
      },
      "source": [
        "print(\"TOP-20 игороков(TRAIN) по количеству правильно отвеченных(в составе какой-либо команды) вопросов:\") \n",
        "df_train_res_players.groupby(['player_id'])[['answer']].sum().sort_values(by='answer', ascending=False).nlargest(20, 'answer').\\\n",
        "    merge(df_players, how='inner', on='player_id')   "
      ],
      "execution_count": 14,
      "outputs": [
        {
          "output_type": "stream",
          "text": [
            "TOP-20 игороков(TRAIN) по количеству правильно отвеченных(в составе какой-либо команды) вопросов:\n"
          ],
          "name": "stdout"
        },
        {
          "output_type": "execute_result",
          "data": {
            "text/html": [
              "<div>\n",
              "<style scoped>\n",
              "    .dataframe tbody tr th:only-of-type {\n",
              "        vertical-align: middle;\n",
              "    }\n",
              "\n",
              "    .dataframe tbody tr th {\n",
              "        vertical-align: top;\n",
              "    }\n",
              "\n",
              "    .dataframe thead th {\n",
              "        text-align: right;\n",
              "    }\n",
              "</style>\n",
              "<table border=\"1\" class=\"dataframe\">\n",
              "  <thead>\n",
              "    <tr style=\"text-align: right;\">\n",
              "      <th></th>\n",
              "      <th>answer</th>\n",
              "      <th>fname</th>\n",
              "    </tr>\n",
              "    <tr>\n",
              "      <th>player_id</th>\n",
              "      <th></th>\n",
              "      <th></th>\n",
              "    </tr>\n",
              "  </thead>\n",
              "  <tbody>\n",
              "    <tr>\n",
              "      <th>110920</th>\n",
              "      <td>4040</td>\n",
              "      <td>Алексей Дворянчиков</td>\n",
              "    </tr>\n",
              "    <tr>\n",
              "      <th>131908</th>\n",
              "      <td>3958</td>\n",
              "      <td>Иван Киселёв</td>\n",
              "    </tr>\n",
              "    <tr>\n",
              "      <th>12511</th>\n",
              "      <td>3956</td>\n",
              "      <td>Константин Ильин</td>\n",
              "    </tr>\n",
              "    <tr>\n",
              "      <th>20640</th>\n",
              "      <td>3931</td>\n",
              "      <td>Ольга Мельникова</td>\n",
              "    </tr>\n",
              "    <tr>\n",
              "      <th>147450</th>\n",
              "      <td>3839</td>\n",
              "      <td>Максим Салихов</td>\n",
              "    </tr>\n",
              "    <tr>\n",
              "      <th>117262</th>\n",
              "      <td>3631</td>\n",
              "      <td>Сергей Черкасов</td>\n",
              "    </tr>\n",
              "    <tr>\n",
              "      <th>27499</th>\n",
              "      <td>3438</td>\n",
              "      <td>Наталия Рыжанова</td>\n",
              "    </tr>\n",
              "    <tr>\n",
              "      <th>149724</th>\n",
              "      <td>3412</td>\n",
              "      <td>Дмитрий Пелихов</td>\n",
              "    </tr>\n",
              "    <tr>\n",
              "      <th>26640</th>\n",
              "      <td>3399</td>\n",
              "      <td>Вадим Раскумандрин</td>\n",
              "    </tr>\n",
              "    <tr>\n",
              "      <th>12313</th>\n",
              "      <td>3333</td>\n",
              "      <td>Сергей Иванченко</td>\n",
              "    </tr>\n",
              "    <tr>\n",
              "      <th>149723</th>\n",
              "      <td>3205</td>\n",
              "      <td>Валерий Виноградов</td>\n",
              "    </tr>\n",
              "    <tr>\n",
              "      <th>85059</th>\n",
              "      <td>3117</td>\n",
              "      <td>Ева Берг</td>\n",
              "    </tr>\n",
              "    <tr>\n",
              "      <th>156146</th>\n",
              "      <td>3099</td>\n",
              "      <td>Игорь Фасхеев</td>\n",
              "    </tr>\n",
              "    <tr>\n",
              "      <th>30152</th>\n",
              "      <td>3034</td>\n",
              "      <td>Артём Сорожкин</td>\n",
              "    </tr>\n",
              "    <tr>\n",
              "      <th>118444</th>\n",
              "      <td>2919</td>\n",
              "      <td>Ирина Липовская</td>\n",
              "    </tr>\n",
              "    <tr>\n",
              "      <th>25475</th>\n",
              "      <td>2910</td>\n",
              "      <td>Павел Полухин</td>\n",
              "    </tr>\n",
              "    <tr>\n",
              "      <th>171798</th>\n",
              "      <td>2876</td>\n",
              "      <td>Александр Стеценко</td>\n",
              "    </tr>\n",
              "    <tr>\n",
              "      <th>85216</th>\n",
              "      <td>2870</td>\n",
              "      <td>Елизавета Мельник</td>\n",
              "    </tr>\n",
              "    <tr>\n",
              "      <th>42511</th>\n",
              "      <td>2867</td>\n",
              "      <td>Николай Некрылов</td>\n",
              "    </tr>\n",
              "    <tr>\n",
              "      <th>134991</th>\n",
              "      <td>2828</td>\n",
              "      <td>Павел Семенюк</td>\n",
              "    </tr>\n",
              "  </tbody>\n",
              "</table>\n",
              "</div>"
            ],
            "text/plain": [
              "           answer                fname\n",
              "player_id                             \n",
              "110920       4040  Алексей Дворянчиков\n",
              "131908       3958         Иван Киселёв\n",
              "12511        3956     Константин Ильин\n",
              "20640        3931     Ольга Мельникова\n",
              "147450       3839       Максим Салихов\n",
              "117262       3631      Сергей Черкасов\n",
              "27499        3438     Наталия Рыжанова\n",
              "149724       3412      Дмитрий Пелихов\n",
              "26640        3399   Вадим Раскумандрин\n",
              "12313        3333     Сергей Иванченко\n",
              "149723       3205   Валерий Виноградов\n",
              "85059        3117             Ева Берг\n",
              "156146       3099        Игорь Фасхеев\n",
              "30152        3034       Артём Сорожкин\n",
              "118444       2919      Ирина Липовская\n",
              "25475        2910        Павел Полухин\n",
              "171798       2876   Александр Стеценко\n",
              "85216        2870    Елизавета Мельник\n",
              "42511        2867     Николай Некрылов\n",
              "134991       2828        Павел Семенюк"
            ]
          },
          "metadata": {
            "tags": []
          },
          "execution_count": 14
        }
      ]
    },
    {
      "cell_type": "code",
      "metadata": {
        "colab": {
          "base_uri": "https://localhost:8080/",
          "height": 686
        },
        "id": "Pr-jO2zb0mpP",
        "outputId": "65bb3d01-c435-4c0d-8a9e-708e61091dba"
      },
      "source": [
        "print(\"TOP-20 игороков(TRAIN) по количеству посещенных игр:\") \n",
        "df_train_res_players[['team_id','player_id']].drop_duplicates().groupby(['player_id'])[['team_id']].\\\n",
        "    count().sort_values(by='team_id', ascending=False).nlargest(20, 'team_id').merge(df_players, how='inner', on='player_id')"
      ],
      "execution_count": 15,
      "outputs": [
        {
          "output_type": "stream",
          "text": [
            "TOP-20 игороков(TRAIN) по количеству посещенных игр:\n"
          ],
          "name": "stdout"
        },
        {
          "output_type": "execute_result",
          "data": {
            "text/html": [
              "<div>\n",
              "<style scoped>\n",
              "    .dataframe tbody tr th:only-of-type {\n",
              "        vertical-align: middle;\n",
              "    }\n",
              "\n",
              "    .dataframe tbody tr th {\n",
              "        vertical-align: top;\n",
              "    }\n",
              "\n",
              "    .dataframe thead th {\n",
              "        text-align: right;\n",
              "    }\n",
              "</style>\n",
              "<table border=\"1\" class=\"dataframe\">\n",
              "  <thead>\n",
              "    <tr style=\"text-align: right;\">\n",
              "      <th></th>\n",
              "      <th>team_id</th>\n",
              "      <th>fname</th>\n",
              "    </tr>\n",
              "    <tr>\n",
              "      <th>player_id</th>\n",
              "      <th></th>\n",
              "      <th></th>\n",
              "    </tr>\n",
              "  </thead>\n",
              "  <tbody>\n",
              "    <tr>\n",
              "      <th>16939</th>\n",
              "      <td>54</td>\n",
              "      <td>Сергей Кузнецов</td>\n",
              "    </tr>\n",
              "    <tr>\n",
              "      <th>96304</th>\n",
              "      <td>44</td>\n",
              "      <td>Алексей Тырышкин</td>\n",
              "    </tr>\n",
              "    <tr>\n",
              "      <th>42511</th>\n",
              "      <td>44</td>\n",
              "      <td>Николай Некрылов</td>\n",
              "    </tr>\n",
              "    <tr>\n",
              "      <th>54035</th>\n",
              "      <td>42</td>\n",
              "      <td>Дамир Жадиков</td>\n",
              "    </tr>\n",
              "    <tr>\n",
              "      <th>46586</th>\n",
              "      <td>41</td>\n",
              "      <td>Виталий Эйбер</td>\n",
              "    </tr>\n",
              "    <tr>\n",
              "      <th>96330</th>\n",
              "      <td>40</td>\n",
              "      <td>Наталья Комар</td>\n",
              "    </tr>\n",
              "    <tr>\n",
              "      <th>140245</th>\n",
              "      <td>40</td>\n",
              "      <td>Дмитрий Евменов</td>\n",
              "    </tr>\n",
              "    <tr>\n",
              "      <th>117884</th>\n",
              "      <td>39</td>\n",
              "      <td>Олег Шитиков</td>\n",
              "    </tr>\n",
              "    <tr>\n",
              "      <th>80593</th>\n",
              "      <td>39</td>\n",
              "      <td>Алексей Шуб</td>\n",
              "    </tr>\n",
              "    <tr>\n",
              "      <th>23020</th>\n",
              "      <td>38</td>\n",
              "      <td>Наталия Новыш</td>\n",
              "    </tr>\n",
              "    <tr>\n",
              "      <th>68676</th>\n",
              "      <td>37</td>\n",
              "      <td>Арсен Мурзагалиев</td>\n",
              "    </tr>\n",
              "    <tr>\n",
              "      <th>904</th>\n",
              "      <td>36</td>\n",
              "      <td>Максим Алонцев</td>\n",
              "    </tr>\n",
              "    <tr>\n",
              "      <th>20640</th>\n",
              "      <td>36</td>\n",
              "      <td>Ольга Мельникова</td>\n",
              "    </tr>\n",
              "    <tr>\n",
              "      <th>56896</th>\n",
              "      <td>36</td>\n",
              "      <td>Надежда Головлёва</td>\n",
              "    </tr>\n",
              "    <tr>\n",
              "      <th>115151</th>\n",
              "      <td>35</td>\n",
              "      <td>Андрей Маврин</td>\n",
              "    </tr>\n",
              "    <tr>\n",
              "      <th>30152</th>\n",
              "      <td>34</td>\n",
              "      <td>Артём Сорожкин</td>\n",
              "    </tr>\n",
              "    <tr>\n",
              "      <th>90105</th>\n",
              "      <td>34</td>\n",
              "      <td>Михаил Петров</td>\n",
              "    </tr>\n",
              "    <tr>\n",
              "      <th>86792</th>\n",
              "      <td>34</td>\n",
              "      <td>Кирилл Сидоренко</td>\n",
              "    </tr>\n",
              "    <tr>\n",
              "      <th>33620</th>\n",
              "      <td>33</td>\n",
              "      <td>Руслан Хаиткулов</td>\n",
              "    </tr>\n",
              "    <tr>\n",
              "      <th>78609</th>\n",
              "      <td>33</td>\n",
              "      <td>Ольга Багина</td>\n",
              "    </tr>\n",
              "  </tbody>\n",
              "</table>\n",
              "</div>"
            ],
            "text/plain": [
              "           team_id              fname\n",
              "player_id                            \n",
              "16939           54    Сергей Кузнецов\n",
              "96304           44   Алексей Тырышкин\n",
              "42511           44   Николай Некрылов\n",
              "54035           42      Дамир Жадиков\n",
              "46586           41      Виталий Эйбер\n",
              "96330           40      Наталья Комар\n",
              "140245          40    Дмитрий Евменов\n",
              "117884          39       Олег Шитиков\n",
              "80593           39        Алексей Шуб\n",
              "23020           38      Наталия Новыш\n",
              "68676           37  Арсен Мурзагалиев\n",
              "904             36     Максим Алонцев\n",
              "20640           36   Ольга Мельникова\n",
              "56896           36  Надежда Головлёва\n",
              "115151          35      Андрей Маврин\n",
              "30152           34     Артём Сорожкин\n",
              "90105           34      Михаил Петров\n",
              "86792           34   Кирилл Сидоренко\n",
              "33620           33   Руслан Хаиткулов\n",
              "78609           33       Ольга Багина"
            ]
          },
          "metadata": {
            "tags": []
          },
          "execution_count": 15
        }
      ]
    },
    {
      "cell_type": "code",
      "metadata": {
        "colab": {
          "base_uri": "https://localhost:8080/",
          "height": 686
        },
        "id": "zzfzfxt12JGd",
        "outputId": "48a684d5-ffae-46ed-ea11-5ca34d68dd78"
      },
      "source": [
        "print(\"TOP-20 игороков(TRAIN) по количеству посещенных турниров:\")\n",
        "df_train_res_players.reset_index()[['tournament_id','player_id']].drop_duplicates().groupby(['player_id'])[['tournament_id']].\\\n",
        "    count().sort_values(by='tournament_id', ascending=False).nlargest(20, 'tournament_id').merge(df_players, how='inner', on='player_id')"
      ],
      "execution_count": 16,
      "outputs": [
        {
          "output_type": "stream",
          "text": [
            "TOP-20 игороков(TRAIN) по количеству посещенных турниров:\n"
          ],
          "name": "stdout"
        },
        {
          "output_type": "execute_result",
          "data": {
            "text/html": [
              "<div>\n",
              "<style scoped>\n",
              "    .dataframe tbody tr th:only-of-type {\n",
              "        vertical-align: middle;\n",
              "    }\n",
              "\n",
              "    .dataframe tbody tr th {\n",
              "        vertical-align: top;\n",
              "    }\n",
              "\n",
              "    .dataframe thead th {\n",
              "        text-align: right;\n",
              "    }\n",
              "</style>\n",
              "<table border=\"1\" class=\"dataframe\">\n",
              "  <thead>\n",
              "    <tr style=\"text-align: right;\">\n",
              "      <th></th>\n",
              "      <th>tournament_id</th>\n",
              "      <th>fname</th>\n",
              "    </tr>\n",
              "    <tr>\n",
              "      <th>player_id</th>\n",
              "      <th></th>\n",
              "      <th></th>\n",
              "    </tr>\n",
              "  </thead>\n",
              "  <tbody>\n",
              "    <tr>\n",
              "      <th>20640</th>\n",
              "      <td>184</td>\n",
              "      <td>Ольга Мельникова</td>\n",
              "    </tr>\n",
              "    <tr>\n",
              "      <th>12511</th>\n",
              "      <td>183</td>\n",
              "      <td>Константин Ильин</td>\n",
              "    </tr>\n",
              "    <tr>\n",
              "      <th>131908</th>\n",
              "      <td>178</td>\n",
              "      <td>Иван Киселёв</td>\n",
              "    </tr>\n",
              "    <tr>\n",
              "      <th>147450</th>\n",
              "      <td>176</td>\n",
              "      <td>Максим Салихов</td>\n",
              "    </tr>\n",
              "    <tr>\n",
              "      <th>117262</th>\n",
              "      <td>173</td>\n",
              "      <td>Сергей Черкасов</td>\n",
              "    </tr>\n",
              "    <tr>\n",
              "      <th>149724</th>\n",
              "      <td>158</td>\n",
              "      <td>Дмитрий Пелихов</td>\n",
              "    </tr>\n",
              "    <tr>\n",
              "      <th>110920</th>\n",
              "      <td>157</td>\n",
              "      <td>Алексей Дворянчиков</td>\n",
              "    </tr>\n",
              "    <tr>\n",
              "      <th>118444</th>\n",
              "      <td>148</td>\n",
              "      <td>Ирина Липовская</td>\n",
              "    </tr>\n",
              "    <tr>\n",
              "      <th>85059</th>\n",
              "      <td>148</td>\n",
              "      <td>Ева Берг</td>\n",
              "    </tr>\n",
              "    <tr>\n",
              "      <th>156146</th>\n",
              "      <td>146</td>\n",
              "      <td>Игорь Фасхеев</td>\n",
              "    </tr>\n",
              "    <tr>\n",
              "      <th>125567</th>\n",
              "      <td>143</td>\n",
              "      <td>Анна Ялынычева</td>\n",
              "    </tr>\n",
              "    <tr>\n",
              "      <th>149723</th>\n",
              "      <td>142</td>\n",
              "      <td>Валерий Виноградов</td>\n",
              "    </tr>\n",
              "    <tr>\n",
              "      <th>119469</th>\n",
              "      <td>142</td>\n",
              "      <td>Артём Забиран</td>\n",
              "    </tr>\n",
              "    <tr>\n",
              "      <th>119857</th>\n",
              "      <td>141</td>\n",
              "      <td>Олег Колесник</td>\n",
              "    </tr>\n",
              "    <tr>\n",
              "      <th>25475</th>\n",
              "      <td>138</td>\n",
              "      <td>Павел Полухин</td>\n",
              "    </tr>\n",
              "    <tr>\n",
              "      <th>135914</th>\n",
              "      <td>134</td>\n",
              "      <td>Александра Грушина</td>\n",
              "    </tr>\n",
              "    <tr>\n",
              "      <th>26640</th>\n",
              "      <td>134</td>\n",
              "      <td>Вадим Раскумандрин</td>\n",
              "    </tr>\n",
              "    <tr>\n",
              "      <th>136847</th>\n",
              "      <td>133</td>\n",
              "      <td>Дарья Суворова</td>\n",
              "    </tr>\n",
              "    <tr>\n",
              "      <th>27499</th>\n",
              "      <td>133</td>\n",
              "      <td>Наталия Рыжанова</td>\n",
              "    </tr>\n",
              "    <tr>\n",
              "      <th>4426</th>\n",
              "      <td>132</td>\n",
              "      <td>Галина Буланова</td>\n",
              "    </tr>\n",
              "  </tbody>\n",
              "</table>\n",
              "</div>"
            ],
            "text/plain": [
              "           tournament_id                fname\n",
              "player_id                                    \n",
              "20640                184     Ольга Мельникова\n",
              "12511                183     Константин Ильин\n",
              "131908               178         Иван Киселёв\n",
              "147450               176       Максим Салихов\n",
              "117262               173      Сергей Черкасов\n",
              "149724               158      Дмитрий Пелихов\n",
              "110920               157  Алексей Дворянчиков\n",
              "118444               148      Ирина Липовская\n",
              "85059                148             Ева Берг\n",
              "156146               146        Игорь Фасхеев\n",
              "125567               143       Анна Ялынычева\n",
              "149723               142   Валерий Виноградов\n",
              "119469               142        Артём Забиран\n",
              "119857               141        Олег Колесник\n",
              "25475                138        Павел Полухин\n",
              "135914               134   Александра Грушина\n",
              "26640                134   Вадим Раскумандрин\n",
              "136847               133       Дарья Суворова\n",
              "27499                133     Наталия Рыжанова\n",
              "4426                 132      Галина Буланова"
            ]
          },
          "metadata": {
            "tags": []
          },
          "execution_count": 16
        }
      ]
    },
    {
      "cell_type": "markdown",
      "metadata": {
        "id": "q8TThh21NaCk"
      },
      "source": [
        "##### Players results TEST"
      ]
    },
    {
      "cell_type": "code",
      "metadata": {
        "colab": {
          "base_uri": "https://localhost:8080/"
        },
        "id": "e533EDsHNdrY",
        "outputId": "e1279447-f6e2-45cf-f3f2-cc2a25d7a4a5"
      },
      "source": [
        "df_test_res_players = get_players_results(df_tournaments_test, df_results)\n",
        "print(f'Tournaments count TEST:{df_test_res_players.index.nunique()}')"
      ],
      "execution_count": 17,
      "outputs": [
        {
          "output_type": "stream",
          "text": [
            "Tournaments count TEST:151\n"
          ],
          "name": "stdout"
        }
      ]
    },
    {
      "cell_type": "markdown",
      "metadata": {
        "id": "YWeeW38x-6GI"
      },
      "source": [
        "#### Conver to ONEHOT(TRAIN):"
      ]
    },
    {
      "cell_type": "code",
      "metadata": {
        "colab": {
          "base_uri": "https://localhost:8080/"
        },
        "id": "gMsY-M3h9CK0",
        "outputId": "d4d48082-204d-47ac-d9ee-9b90bc5f00c0"
      },
      "source": [
        "print(f'players:{df_train_res_players.question_id.nunique()}, questions:{df_train_res_players.player_id.nunique()\\\n",
        "                                                                         }, rows:{df_train_res_players.shape[0]}')"
      ],
      "execution_count": 18,
      "outputs": [
        {
          "output_type": "stream",
          "text": [
            "players:28014, questions:55280, rows:13753671\n"
          ],
          "name": "stdout"
        }
      ]
    },
    {
      "cell_type": "code",
      "metadata": {
        "id": "1j633mmVEwsL"
      },
      "source": [
        "enc = OneHotEncoder(handle_unknown='ignore')\n",
        "\n",
        "X_train = enc.fit_transform(df_train_res_players[['player_id', 'question_id']])\n",
        "y_train = np.array(df_train_res_players['answer'], dtype=np.int32)"
      ],
      "execution_count": 19,
      "outputs": []
    },
    {
      "cell_type": "code",
      "metadata": {
        "colab": {
          "base_uri": "https://localhost:8080/"
        },
        "id": "0E9tSYPzXD2c",
        "outputId": "dff9a884-9109-4fff-9307-a2b1f3c010f8"
      },
      "source": [
        "X_train.shape, y_train.shape"
      ],
      "execution_count": 20,
      "outputs": [
        {
          "output_type": "execute_result",
          "data": {
            "text/plain": [
              "((13753671, 83294), (13753671,))"
            ]
          },
          "metadata": {
            "tags": []
          },
          "execution_count": 20
        }
      ]
    },
    {
      "cell_type": "markdown",
      "metadata": {
        "id": "pE8PvhlwXJmG"
      },
      "source": [
        "## 2) Постройте baseline-модель на основе линейной или логистической регрессии, которая будет обучать рейтинг-лист игроков. "
      ]
    },
    {
      "cell_type": "markdown",
      "metadata": {
        "id": "omho_dZI3qnh"
      },
      "source": [
        "Замечания и подсказки:\n",
        "* повопросные результаты — это фактически результаты броска монетки, и их предсказание скорее всего имеет отношение к бинарной классификации;\n",
        "* в разных турнирах вопросы совсем разного уровня сложности, поэтому модель должна это учитывать; скорее всего, модель должна будет явно обучать не только силу каждого игрока, но и сложность каждого вопроса;\n",
        "* для baseline-модели можно забыть о командах и считать, что повопросные результаты команды просто относятся к каждому из её игроков.\n"
      ]
    },
    {
      "cell_type": "code",
      "metadata": {
        "colab": {
          "base_uri": "https://localhost:8080/"
        },
        "id": "K0A4DJ02XMjK",
        "outputId": "410442e6-f928-4c90-8081-bfd6f3a03a19"
      },
      "source": [
        "lr_baseline = LogisticRegression(random_state=0, n_jobs=-1)\n",
        "lr_baseline.fit(X_train, y_train)"
      ],
      "execution_count": 21,
      "outputs": [
        {
          "output_type": "execute_result",
          "data": {
            "text/plain": [
              "LogisticRegression(C=1.0, class_weight=None, dual=False, fit_intercept=True,\n",
              "                   intercept_scaling=1, l1_ratio=None, max_iter=100,\n",
              "                   multi_class='auto', n_jobs=-1, penalty='l2', random_state=0,\n",
              "                   solver='lbfgs', tol=0.0001, verbose=0, warm_start=False)"
            ]
          },
          "metadata": {
            "tags": []
          },
          "execution_count": 21
        }
      ]
    },
    {
      "cell_type": "markdown",
      "metadata": {
        "id": "kR5262C8l3bU"
      },
      "source": [
        "#### TRAIN metrcis:"
      ]
    },
    {
      "cell_type": "markdown",
      "metadata": {
        "id": "QvCpv-uSK6Z5"
      },
      "source": [
        "Оценим как обучилась наша Baseline модель"
      ]
    },
    {
      "cell_type": "code",
      "metadata": {
        "colab": {
          "base_uri": "https://localhost:8080/",
          "height": 427
        },
        "id": "UwJVm5VIivoF",
        "outputId": "a3cb5443-b72b-4e9e-f377-28ca5aa6fb5d"
      },
      "source": [
        "y_predict = np.array(lr_baseline.predict(X_train), dtype=np.int32)\n",
        "print(metrics.classification_report(y_train, y_predict))\n",
        "plt.hist(y_train - y_predict);"
      ],
      "execution_count": 22,
      "outputs": [
        {
          "output_type": "stream",
          "text": [
            "              precision    recall  f1-score   support\n",
            "\n",
            "           0       0.79      0.82      0.80   7827428\n",
            "           1       0.75      0.71      0.73   5926243\n",
            "\n",
            "    accuracy                           0.77  13753671\n",
            "   macro avg       0.77      0.76      0.77  13753671\n",
            "weighted avg       0.77      0.77      0.77  13753671\n",
            "\n"
          ],
          "name": "stdout"
        },
        {
          "output_type": "display_data",
          "data": {
            "image/png": "[encoded data removed]",
            "text/plain": [
              "<Figure size 432x288 with 1 Axes>"
            ]
          },
          "metadata": {
            "tags": [],
            "needs_background": "light"
          }
        }
      ]
    },
    {
      "cell_type": "markdown",
      "metadata": {
        "id": "JvEvCyrSXqQb"
      },
      "source": [
        "### Ранжирование игроков (при помощи коэффициентов логистической регресси):"
      ]
    },
    {
      "cell_type": "code",
      "metadata": {
        "id": "ACuu90hMXx9h"
      },
      "source": [
        "players = np.unique(df_train_res_players['player_id'])                  \n",
        "df_train_rate = pd.DataFrame({'player_id': players,\n",
        "                       'strength': lr_baseline.coef_[0][:len(players)]})"
      ],
      "execution_count": 23,
      "outputs": []
    },
    {
      "cell_type": "code",
      "metadata": {
        "colab": {
          "base_uri": "https://localhost:8080/",
          "height": 321
        },
        "id": "RrumRLy7ZjsC",
        "outputId": "cb2285cf-c796-45e5-89de-d9ee710f929a"
      },
      "source": [
        "f, ax = plt.subplots(1,1,figsize=(20,5))\n",
        "ax.plot(lr_baseline.coef_[0], color='Red')\n",
        "ax.set_xlabel('player_id')\n",
        "ax.set_ylabel('LogisticRegression coef');"
      ],
      "execution_count": 24,
      "outputs": [
        {
          "output_type": "display_data",
          "data": {
            "image/png": "[encoded data removed]",
            "text/plain": [
              "<Figure size 1440x360 with 1 Axes>"
            ]
          },
          "metadata": {
            "tags": [],
            "needs_background": "light"
          }
        }
      ]
    },
    {
      "cell_type": "code",
      "metadata": {
        "colab": {
          "base_uri": "https://localhost:8080/",
          "height": 656
        },
        "id": "p-kWT8UzbTLO",
        "outputId": "3c416a88-de1d-4369-cfc5-302285e6c1c0"
      },
      "source": [
        "print(\"TOP-20 игороков(TRAIN) на основе ранжирования по коэффициентам логистической регрессии:\") \n",
        "df_train_rate_final = df_train_rate.merge(df_players, how='inner', on='player_id')\n",
        "df_train_rate_final = df_train_rate_final.sort_values(by='strength', ascending=False)\n",
        "df_train_rate_final.head(20)"
      ],
      "execution_count": 25,
      "outputs": [
        {
          "output_type": "stream",
          "text": [
            "TOP-20 игороков(TRAIN) на основе ранжирования по коэффициентам логистической регрессии:\n"
          ],
          "name": "stdout"
        },
        {
          "output_type": "execute_result",
          "data": {
            "text/html": [
              "<div>\n",
              "<style scoped>\n",
              "    .dataframe tbody tr th:only-of-type {\n",
              "        vertical-align: middle;\n",
              "    }\n",
              "\n",
              "    .dataframe tbody tr th {\n",
              "        vertical-align: top;\n",
              "    }\n",
              "\n",
              "    .dataframe thead th {\n",
              "        text-align: right;\n",
              "    }\n",
              "</style>\n",
              "<table border=\"1\" class=\"dataframe\">\n",
              "  <thead>\n",
              "    <tr style=\"text-align: right;\">\n",
              "      <th></th>\n",
              "      <th>player_id</th>\n",
              "      <th>strength</th>\n",
              "      <th>fname</th>\n",
              "    </tr>\n",
              "  </thead>\n",
              "  <tbody>\n",
              "    <tr>\n",
              "      <th>3766</th>\n",
              "      <td>27403</td>\n",
              "      <td>3.864046</td>\n",
              "      <td>Максим Руссо</td>\n",
              "    </tr>\n",
              "    <tr>\n",
              "      <th>585</th>\n",
              "      <td>4270</td>\n",
              "      <td>3.614264</td>\n",
              "      <td>Александра Брутер</td>\n",
              "    </tr>\n",
              "    <tr>\n",
              "      <th>3953</th>\n",
              "      <td>28751</td>\n",
              "      <td>3.613494</td>\n",
              "      <td>Иван Семушин</td>\n",
              "    </tr>\n",
              "    <tr>\n",
              "      <th>3837</th>\n",
              "      <td>27822</td>\n",
              "      <td>3.576068</td>\n",
              "      <td>Михаил Савченков</td>\n",
              "    </tr>\n",
              "    <tr>\n",
              "      <th>2505</th>\n",
              "      <td>18036</td>\n",
              "      <td>3.486332</td>\n",
              "      <td>Михаил Левандовский</td>\n",
              "    </tr>\n",
              "    <tr>\n",
              "      <th>2856</th>\n",
              "      <td>20691</td>\n",
              "      <td>3.482016</td>\n",
              "      <td>Станислав Мереминский</td>\n",
              "    </tr>\n",
              "    <tr>\n",
              "      <th>4157</th>\n",
              "      <td>30270</td>\n",
              "      <td>3.480629</td>\n",
              "      <td>Сергей Спешков</td>\n",
              "    </tr>\n",
              "    <tr>\n",
              "      <th>4152</th>\n",
              "      <td>30260</td>\n",
              "      <td>3.416436</td>\n",
              "      <td>Евгений Спектор</td>\n",
              "    </tr>\n",
              "    <tr>\n",
              "      <th>4673</th>\n",
              "      <td>34328</td>\n",
              "      <td>3.411907</td>\n",
              "      <td>Михаил Царёв</td>\n",
              "    </tr>\n",
              "    <tr>\n",
              "      <th>3808</th>\n",
              "      <td>27622</td>\n",
              "      <td>3.394032</td>\n",
              "      <td>Николай Рябых</td>\n",
              "    </tr>\n",
              "    <tr>\n",
              "      <th>3162</th>\n",
              "      <td>22935</td>\n",
              "      <td>3.388474</td>\n",
              "      <td>Илья Новиков</td>\n",
              "    </tr>\n",
              "    <tr>\n",
              "      <th>4137</th>\n",
              "      <td>30152</td>\n",
              "      <td>3.364144</td>\n",
              "      <td>Артём Сорожкин</td>\n",
              "    </tr>\n",
              "    <tr>\n",
              "      <th>1251</th>\n",
              "      <td>9061</td>\n",
              "      <td>3.317474</td>\n",
              "      <td>Евгений Дёмин</td>\n",
              "    </tr>\n",
              "    <tr>\n",
              "      <th>1672</th>\n",
              "      <td>12307</td>\n",
              "      <td>3.315800</td>\n",
              "      <td>Светлана Иванцова</td>\n",
              "    </tr>\n",
              "    <tr>\n",
              "      <th>5053</th>\n",
              "      <td>37047</td>\n",
              "      <td>3.295221</td>\n",
              "      <td>Мария Юнгер</td>\n",
              "    </tr>\n",
              "    <tr>\n",
              "      <th>2261</th>\n",
              "      <td>16332</td>\n",
              "      <td>3.280579</td>\n",
              "      <td>Николай Крапиль</td>\n",
              "    </tr>\n",
              "    <tr>\n",
              "      <th>3362</th>\n",
              "      <td>24384</td>\n",
              "      <td>3.277563</td>\n",
              "      <td>Евгений Пашковский</td>\n",
              "    </tr>\n",
              "    <tr>\n",
              "      <th>3331</th>\n",
              "      <td>24127</td>\n",
              "      <td>3.265994</td>\n",
              "      <td>Денис Паншин</td>\n",
              "    </tr>\n",
              "    <tr>\n",
              "      <th>1868</th>\n",
              "      <td>13689</td>\n",
              "      <td>3.265509</td>\n",
              "      <td>Дмитрий Карякин</td>\n",
              "    </tr>\n",
              "    <tr>\n",
              "      <th>218</th>\n",
              "      <td>1585</td>\n",
              "      <td>3.260376</td>\n",
              "      <td>Юлия Архангельская</td>\n",
              "    </tr>\n",
              "  </tbody>\n",
              "</table>\n",
              "</div>"
            ],
            "text/plain": [
              "      player_id  strength                  fname\n",
              "3766      27403  3.864046           Максим Руссо\n",
              "585        4270  3.614264      Александра Брутер\n",
              "3953      28751  3.613494           Иван Семушин\n",
              "3837      27822  3.576068       Михаил Савченков\n",
              "2505      18036  3.486332    Михаил Левандовский\n",
              "2856      20691  3.482016  Станислав Мереминский\n",
              "4157      30270  3.480629         Сергей Спешков\n",
              "4152      30260  3.416436        Евгений Спектор\n",
              "4673      34328  3.411907           Михаил Царёв\n",
              "3808      27622  3.394032          Николай Рябых\n",
              "3162      22935  3.388474           Илья Новиков\n",
              "4137      30152  3.364144         Артём Сорожкин\n",
              "1251       9061  3.317474          Евгений Дёмин\n",
              "1672      12307  3.315800      Светлана Иванцова\n",
              "5053      37047  3.295221            Мария Юнгер\n",
              "2261      16332  3.280579        Николай Крапиль\n",
              "3362      24384  3.277563     Евгений Пашковский\n",
              "3331      24127  3.265994           Денис Паншин\n",
              "1868      13689  3.265509        Дмитрий Карякин\n",
              "218        1585  3.260376     Юлия Архангельская"
            ]
          },
          "metadata": {
            "tags": []
          },
          "execution_count": 25
        }
      ]
    },
    {
      "cell_type": "code",
      "metadata": {
        "colab": {
          "base_uri": "https://localhost:8080/",
          "height": 686
        },
        "id": "Ryp0J6hD54HX",
        "outputId": "4f44e4b3-3370-4269-8455-66cba3285d62"
      },
      "source": [
        "print(\"Количество правильно отвеченных(в составе какой-либо команды) вопросов для TOP-20 отранжированных игроков(TRAIN):\") \n",
        "df_train_res_players[df_train_res_players.player_id.isin(df_train_rate_final.head(20).player_id)].\\\n",
        "    groupby(['player_id'])[['answer']].sum().\\\n",
        "    sort_values(by='answer', ascending=False).nlargest(20, 'answer').\\\n",
        "    merge(df_players, how='inner', on='player_id') "
      ],
      "execution_count": 26,
      "outputs": [
        {
          "output_type": "stream",
          "text": [
            "Количество правильно отвеченных(в составе какой-либо команды) вопросов для TOP-20 отранжированных игроков(TRAIN):\n"
          ],
          "name": "stdout"
        },
        {
          "output_type": "execute_result",
          "data": {
            "text/html": [
              "<div>\n",
              "<style scoped>\n",
              "    .dataframe tbody tr th:only-of-type {\n",
              "        vertical-align: middle;\n",
              "    }\n",
              "\n",
              "    .dataframe tbody tr th {\n",
              "        vertical-align: top;\n",
              "    }\n",
              "\n",
              "    .dataframe thead th {\n",
              "        text-align: right;\n",
              "    }\n",
              "</style>\n",
              "<table border=\"1\" class=\"dataframe\">\n",
              "  <thead>\n",
              "    <tr style=\"text-align: right;\">\n",
              "      <th></th>\n",
              "      <th>answer</th>\n",
              "      <th>fname</th>\n",
              "    </tr>\n",
              "    <tr>\n",
              "      <th>player_id</th>\n",
              "      <th></th>\n",
              "      <th></th>\n",
              "    </tr>\n",
              "  </thead>\n",
              "  <tbody>\n",
              "    <tr>\n",
              "      <th>30152</th>\n",
              "      <td>3034</td>\n",
              "      <td>Артём Сорожкин</td>\n",
              "    </tr>\n",
              "    <tr>\n",
              "      <th>28751</th>\n",
              "      <td>2385</td>\n",
              "      <td>Иван Семушин</td>\n",
              "    </tr>\n",
              "    <tr>\n",
              "      <th>30270</th>\n",
              "      <td>2283</td>\n",
              "      <td>Сергей Спешков</td>\n",
              "    </tr>\n",
              "    <tr>\n",
              "      <th>27822</th>\n",
              "      <td>2056</td>\n",
              "      <td>Михаил Савченков</td>\n",
              "    </tr>\n",
              "    <tr>\n",
              "      <th>4270</th>\n",
              "      <td>1759</td>\n",
              "      <td>Александра Брутер</td>\n",
              "    </tr>\n",
              "    <tr>\n",
              "      <th>27403</th>\n",
              "      <td>1411</td>\n",
              "      <td>Максим Руссо</td>\n",
              "    </tr>\n",
              "    <tr>\n",
              "      <th>20691</th>\n",
              "      <td>989</td>\n",
              "      <td>Станислав Мереминский</td>\n",
              "    </tr>\n",
              "    <tr>\n",
              "      <th>1585</th>\n",
              "      <td>954</td>\n",
              "      <td>Юлия Архангельская</td>\n",
              "    </tr>\n",
              "    <tr>\n",
              "      <th>16332</th>\n",
              "      <td>924</td>\n",
              "      <td>Николай Крапиль</td>\n",
              "    </tr>\n",
              "    <tr>\n",
              "      <th>22935</th>\n",
              "      <td>905</td>\n",
              "      <td>Илья Новиков</td>\n",
              "    </tr>\n",
              "    <tr>\n",
              "      <th>24384</th>\n",
              "      <td>863</td>\n",
              "      <td>Евгений Пашковский</td>\n",
              "    </tr>\n",
              "    <tr>\n",
              "      <th>18036</th>\n",
              "      <td>803</td>\n",
              "      <td>Михаил Левандовский</td>\n",
              "    </tr>\n",
              "    <tr>\n",
              "      <th>13689</th>\n",
              "      <td>724</td>\n",
              "      <td>Дмитрий Карякин</td>\n",
              "    </tr>\n",
              "    <tr>\n",
              "      <th>37047</th>\n",
              "      <td>312</td>\n",
              "      <td>Мария Юнгер</td>\n",
              "    </tr>\n",
              "    <tr>\n",
              "      <th>9061</th>\n",
              "      <td>222</td>\n",
              "      <td>Евгений Дёмин</td>\n",
              "    </tr>\n",
              "    <tr>\n",
              "      <th>34328</th>\n",
              "      <td>222</td>\n",
              "      <td>Михаил Царёв</td>\n",
              "    </tr>\n",
              "    <tr>\n",
              "      <th>12307</th>\n",
              "      <td>176</td>\n",
              "      <td>Светлана Иванцова</td>\n",
              "    </tr>\n",
              "    <tr>\n",
              "      <th>27622</th>\n",
              "      <td>149</td>\n",
              "      <td>Николай Рябых</td>\n",
              "    </tr>\n",
              "    <tr>\n",
              "      <th>24127</th>\n",
              "      <td>148</td>\n",
              "      <td>Денис Паншин</td>\n",
              "    </tr>\n",
              "    <tr>\n",
              "      <th>30260</th>\n",
              "      <td>135</td>\n",
              "      <td>Евгений Спектор</td>\n",
              "    </tr>\n",
              "  </tbody>\n",
              "</table>\n",
              "</div>"
            ],
            "text/plain": [
              "           answer                  fname\n",
              "player_id                               \n",
              "30152        3034         Артём Сорожкин\n",
              "28751        2385           Иван Семушин\n",
              "30270        2283         Сергей Спешков\n",
              "27822        2056       Михаил Савченков\n",
              "4270         1759      Александра Брутер\n",
              "27403        1411           Максим Руссо\n",
              "20691         989  Станислав Мереминский\n",
              "1585          954     Юлия Архангельская\n",
              "16332         924        Николай Крапиль\n",
              "22935         905           Илья Новиков\n",
              "24384         863     Евгений Пашковский\n",
              "18036         803    Михаил Левандовский\n",
              "13689         724        Дмитрий Карякин\n",
              "37047         312            Мария Юнгер\n",
              "9061          222          Евгений Дёмин\n",
              "34328         222           Михаил Царёв\n",
              "12307         176      Светлана Иванцова\n",
              "27622         149          Николай Рябых\n",
              "24127         148           Денис Паншин\n",
              "30260         135        Евгений Спектор"
            ]
          },
          "metadata": {
            "tags": []
          },
          "execution_count": 26
        }
      ]
    },
    {
      "cell_type": "markdown",
      "metadata": {
        "id": "haPKrFmI7PJd"
      },
      "source": [
        "В целом результаты считаю удовлетворительными."
      ]
    },
    {
      "cell_type": "markdown",
      "metadata": {
        "id": "mV7hCVBq7pqs"
      },
      "source": [
        "## 3) Качество рейтинг-системы\n"
      ]
    },
    {
      "cell_type": "markdown",
      "metadata": {
        "id": "64VjtPiCKa5G"
      },
      "source": [
        "Качество рейтинг-системы оценивается качеством предсказаний результатов турниров. Но сами повопросные результаты наши модели предсказывать вряд ли смогут, ведь неизвестно, насколько сложными окажутся вопросы в будущих турнирах; да и не нужны эти предсказания сами по себе."
      ]
    },
    {
      "cell_type": "markdown",
      "metadata": {
        "id": "8qaUgXDY7wxr"
      },
      "source": [
        "Поэтому:\n",
        "* предложите способ предсказать результаты нового турнира с известными составами, но неизвестными вопросами, в виде ранжирования команд;\n",
        "* в качестве метрики качества на тестовом наборе давайте считать ранговые корреляции Спирмена и Кендалла (их можно взять в пакете scipy) между реальным ранжированием в результатах турнира и предсказанным моделью, усреднённые по тестовому множеству турниров."
      ]
    },
    {
      "cell_type": "markdown",
      "metadata": {
        "id": "TKWKUn_U78Vr"
      },
      "source": [
        "Силу команд оценим как вероятность того, что хотя бы один участник ответит верно на 1 вопрос (сложность вопроса учитывать не будем)"
      ]
    },
    {
      "cell_type": "markdown",
      "metadata": {
        "id": "b_SNEf4pKzui"
      },
      "source": [
        "#### Conver to ONEHOT(TEST):"
      ]
    },
    {
      "cell_type": "code",
      "metadata": {
        "id": "lTIW0yNbARFs"
      },
      "source": [
        "# Возьмем игроков, которые есть и в TRAIN\n",
        "df_test_players_in_train = df_test_res_players[df_test_res_players.player_id.isin(players)]\n",
        "df_test_players_in_train = df_test_players_in_train.reset_index()\n",
        "df_test_players_in_train = df_test_players_in_train.sort_values(by=['tournament_id','team_id','player_id'])\n",
        "df_test_players_in_train = df_test_players_in_train.drop(columns=['answer','question_id']).drop_duplicates()"
      ],
      "execution_count": 27,
      "outputs": []
    },
    {
      "cell_type": "code",
      "metadata": {
        "id": "dwIx4CGbKgcr"
      },
      "source": [
        "# Теперь все вопросы у нас новые\n",
        "df_test_players_in_train['question_id'] = -1"
      ],
      "execution_count": 28,
      "outputs": []
    },
    {
      "cell_type": "code",
      "metadata": {
        "id": "gh7asXAdKbOP"
      },
      "source": [
        "X_test = df_test_players_in_train[['player_id', 'question_id']]\n",
        "X_test = enc.transform(X_test)"
      ],
      "execution_count": 29,
      "outputs": []
    },
    {
      "cell_type": "markdown",
      "metadata": {
        "id": "08Ab3RZbARfu"
      },
      "source": [
        "#### Predict TEST:"
      ]
    },
    {
      "cell_type": "code",
      "metadata": {
        "id": "fyR5C28LK3wO"
      },
      "source": [
        "y_predicts = lr_baseline.predict_proba(X_test)[:, 1]"
      ],
      "execution_count": 30,
      "outputs": []
    },
    {
      "cell_type": "code",
      "metadata": {
        "colab": {
          "base_uri": "https://localhost:8080/",
          "height": 265
        },
        "id": "mA4fN2XlSGkB",
        "outputId": "9d2fd4e2-aa23-4acd-8aad-477b2e5f9edb"
      },
      "source": [
        "sns.distplot(y_predicts, color='Orange');"
      ],
      "execution_count": 31,
      "outputs": [
        {
          "output_type": "display_data",
          "data": {
            "image/png": "[encoded data removed]",
            "text/plain": [
              "<Figure size 432x288 with 1 Axes>"
            ]
          },
          "metadata": {
            "tags": [],
            "needs_background": "light"
          }
        }
      ]
    },
    {
      "cell_type": "markdown",
      "metadata": {
        "id": "mI7E6HaNAowf"
      },
      "source": [
        "#### Real RATE:"
      ]
    },
    {
      "cell_type": "markdown",
      "metadata": {
        "id": "zCevWqYVLpdd"
      },
      "source": [
        "Оценим реальный рейтинг команд"
      ]
    },
    {
      "cell_type": "code",
      "metadata": {
        "id": "NoWiidv4Yz4v"
      },
      "source": [
        "df_test_players_in_train['proba_predict'] = y_predicts\n",
        "df_test_players_in_train['score'] = df_test_players_in_train.groupby(['tournament_id', 'team_id'])['proba_predict'].\\\n",
        "                                        transform(lambda x: 1 - np.prod(1 - x))"
      ],
      "execution_count": 32,
      "outputs": []
    },
    {
      "cell_type": "code",
      "metadata": {
        "id": "KmBoZCSDbUny"
      },
      "source": [
        "df_test_rating = df_test_players_in_train[['tournament_id', 'team_id', 'mask_sum', 'score']].\\\n",
        "                    drop_duplicates().reset_index(drop=True)                  "
      ],
      "execution_count": 33,
      "outputs": []
    },
    {
      "cell_type": "code",
      "metadata": {
        "id": "IXFkC2KscT1u"
      },
      "source": [
        "df_test_rating = df_test_rating.sort_values(by=['tournament_id', 'mask_sum'], ascending=False)  \n",
        "df_test_rating['rate'] = df_test_rating.groupby('tournament_id')['mask_sum'].transform(lambda x: np.arange(1, len(x) + 1))"
      ],
      "execution_count": 34,
      "outputs": []
    },
    {
      "cell_type": "code",
      "metadata": {
        "colab": {
          "base_uri": "https://localhost:8080/",
          "height": 279
        },
        "id": "-AEqSADqd9rK",
        "outputId": "914c3893-7d4a-4d48-fbad-47b5d50a8fc6"
      },
      "source": [
        "sns.distplot(df_test_rating['rate']);"
      ],
      "execution_count": 35,
      "outputs": [
        {
          "output_type": "display_data",
          "data": {
            "image/png": "[encoded data removed]",
            "text/plain": [
              "<Figure size 432x288 with 1 Axes>"
            ]
          },
          "metadata": {
            "tags": [],
            "needs_background": "light"
          }
        }
      ]
    },
    {
      "cell_type": "markdown",
      "metadata": {
        "id": "P7NR09jzeLfe"
      },
      "source": [
        "#### Predict RATE:"
      ]
    },
    {
      "cell_type": "markdown",
      "metadata": {
        "id": "0Zjko1mvL0gw"
      },
      "source": [
        "Оценим предсказанный рейтинг команд"
      ]
    },
    {
      "cell_type": "code",
      "metadata": {
        "id": "4Rg8SkrFeKlD"
      },
      "source": [
        "df_test_rating = df_test_rating.sort_values(by=['tournament_id', 'score'], ascending=False)  \n",
        "df_test_rating['rate_predict'] = df_test_rating.groupby('tournament_id')['score'].transform(lambda x: np.arange(1, len(x) + 1))\n",
        "df_test_rating['rate_predict'] = df_test_rating['rate_predict'].astype(np.int32)"
      ],
      "execution_count": 36,
      "outputs": []
    },
    {
      "cell_type": "code",
      "metadata": {
        "colab": {
          "base_uri": "https://localhost:8080/",
          "height": 265
        },
        "id": "_cUh9GVMeqUK",
        "outputId": "4063a5fa-cd26-4a85-cc76-4222f040918f"
      },
      "source": [
        "sns.distplot(df_test_rating[['rate_predict']], color='Green');"
      ],
      "execution_count": 37,
      "outputs": [
        {
          "output_type": "display_data",
          "data": {
            "image/png": "[encoded data removed]",
            "text/plain": [
              "<Figure size 432x288 with 1 Axes>"
            ]
          },
          "metadata": {
            "tags": [],
            "needs_background": "light"
          }
        }
      ]
    },
    {
      "cell_type": "code",
      "metadata": {
        "id": "L94hijAAuhAv"
      },
      "source": [
        "df_test_rating['rate'] = df_test_rating['rate'].astype(np.int32)"
      ],
      "execution_count": 38,
      "outputs": []
    },
    {
      "cell_type": "markdown",
      "metadata": {
        "id": "5l18ZdFdA4M-"
      },
      "source": [
        "#### Correlation:"
      ]
    },
    {
      "cell_type": "markdown",
      "metadata": {
        "id": "LotnIa6QL9kO"
      },
      "source": [
        "Оценим качество baseline модели при помощи корреляции"
      ]
    },
    {
      "cell_type": "code",
      "metadata": {
        "colab": {
          "base_uri": "https://localhost:8080/"
        },
        "id": "LVKyFaV0fkNp",
        "outputId": "f530d132-5390-4808-bb24-f5455cba3f03"
      },
      "source": [
        "    print(f\"Корреляция Спирмана: {df_test_rating.groupby('tournament_id').\\\n",
        "                                  apply(lambda x: stats.spearmanr(x['rate'], x['rate_predict']).correlation).mean()}\")\n",
        "    print(f\"Корреляция Кендалла: {df_test_rating.groupby('tournament_id').\\\n",
        "                                  apply(lambda x: stats.kendalltau(x['rate'], x['rate_predict']).correlation).mean()}\")"
      ],
      "execution_count": 39,
      "outputs": [
        {
          "output_type": "stream",
          "text": [
            "Корреляция Спирмана: 0.7831739130357943\n",
            "Корреляция Кендалла: 0.6148772825995495\n"
          ],
          "name": "stdout"
        }
      ]
    },
    {
      "cell_type": "markdown",
      "metadata": {
        "id": "BBcYGCs9MFVv"
      },
      "source": [
        "Похоже, что всё в порядке"
      ]
    },
    {
      "cell_type": "code",
      "metadata": {
        "colab": {
          "base_uri": "https://localhost:8080/",
          "height": 265
        },
        "id": "paMDANUNf90E",
        "outputId": "29242e2c-6839-4b45-e141-c458eca39e09"
      },
      "source": [
        "plt.hist(df_test_rating['rate'] - df_test_rating['rate_predict']);"
      ],
      "execution_count": 40,
      "outputs": [
        {
          "output_type": "display_data",
          "data": {
            "image/png": "[encoded data removed]",
            "text/plain": [
              "<Figure size 432x288 with 1 Axes>"
            ]
          },
          "metadata": {
            "tags": [],
            "needs_background": "light"
          }
        }
      ]
    },
    {
      "cell_type": "markdown",
      "metadata": {
        "id": "IM86Qz4UBYah"
      },
      "source": [
        "## 4) Теперь главное: ЧГК — это всё-таки командная игра. EM алгоритм"
      ]
    },
    {
      "cell_type": "markdown",
      "metadata": {
        "id": "2V8R_34xBh9_"
      },
      "source": [
        "* предложите способ учитывать то, что на вопрос отвечают сразу несколько игроков; скорее всего, понадобятся скрытые переменные; не стесняйтесь делать упрощающие предположения, но теперь переменные “игрок X ответил на вопрос Y” при условии данных должны стать зависимыми для игроков одной и той же команды;\n",
        "* разработайте EM-схему для обучения этой модели, реализуйте её в коде;\n",
        "* обучите несколько итераций, убедитесь, что целевые метрики со временем растут (скорее всего, ненамного, но расти должны), выберите лучшую модель, используя целевые метрики.\n"
      ]
    },
    {
      "cell_type": "markdown",
      "metadata": {
        "id": "sBfT7Y_-RVBb"
      },
      "source": [
        "\n",
        "До этого мы считали, что если команда ответила на вопрос, то и игрок на него ответил. На самом деле это не так, и нам нужно оценить вероятность ответа игрока при условии \"силы команды\". \n",
        "* Предлагаю попробовать считать \"силой команды\", как и ранее, вероятность хотя бы одного игрока ответить на вопрос. \n",
        "* Также предположим, что \"сила команды\", если игрок ответил верно, равна 1. \\\n",
        "\n",
        "Тогда: \\\n",
        "<font color='PaleGreen'>\n",
        "$ P(player = 1|team) = \\frac{P(team|player = 1)\\cdot P(player = 1)}{P(team)} = \\frac{P(player = 1)}{P(team)} $, \\\n",
        "</font>\n",
        "Также будем считать, что <font color='PaleGreen'> $ P(player = 1 | team ) = 0 $ </font>, если команда ответила на вопрос неверно. \\\n",
        "\n",
        "Соответсвенно, на E-шаге оцениваем <font color='PaleGreen'> $ P(player = 1 | team) $ </font>, а на M-шаге обучаем логистическую регрессию на этом таргете, на выходе получаем значения <font color='PaleGreen'> $ P(player = 1) $ </font>. \\\n",
        "\n",
        "<font color='PaleGreen'> $ P(team) $ </font>, как и ранее, оцениваем как вероятность того, что хотя бы 1 игрок ответит верно: <font color='PaleGreen'> $ P(team) = 1 - П[1 - P(player = 1)] $ </font>"
      ]
    },
    {
      "cell_type": "code",
      "metadata": {
        "id": "56G1-uEDCr_4"
      },
      "source": [
        "def compute_correlation(data, preds):\n",
        "    data['pred'] = preds\n",
        "    data['score'] = data.groupby(['tournament_id', 'team_id'])['pred'].transform(lambda x: 1 - np.prod(1 - x))\n",
        "    rating = data[['tournament_id', 'team_id', 'mask_sum', 'score']].drop_duplicates().reset_index(drop=True)\n",
        "    \n",
        "    # Считаем реальный рейтинг команд\n",
        "    rating = rating.sort_values(by=['tournament_id', 'mask_sum'], ascending=False)\n",
        "    rating['real_rank'] = rating.groupby('tournament_id')['mask_sum'].transform(lambda x: np.arange(1, len(x) + 1))\n",
        "    \n",
        "    # Считаем предсказанный рейтинг\n",
        "    rating = rating.sort_values(by=['tournament_id', 'score'], ascending=False)\n",
        "    rating['pred_rank'] = rating.groupby('tournament_id')['score'].transform(lambda x: np.arange(1, len(x) + 1))\n",
        "\n",
        "    rating = rating.astype(np.int32)\n",
        "    \n",
        "    print(f\"Корреляция Спирмана: {rating.groupby('tournament_id').apply(lambda x: stats.spearmanr(x['real_rank'], x['pred_rank']).correlation).mean()}\")\n",
        "    print(f\"Корреляция Кендалла: {rating.groupby('tournament_id').apply(lambda x: stats.kendalltau(x['real_rank'], x['pred_rank']).correlation).mean()}\")"
      ],
      "execution_count": 41,
      "outputs": []
    },
    {
      "cell_type": "code",
      "metadata": {
        "id": "tGjTZgMxCXoY"
      },
      "source": [
        "def log_loss(y_true, y_pred):\n",
        "    return - np.mean(y_true * np.log(y_pred) + (1 - y_true) * np.log(1 - y_pred))\n",
        "\n",
        "class EMClassifier:\n",
        "    \n",
        "    def __init__(self, w=None, lr=25, n_iter=10, batch_size=5000, verbose=1):\n",
        "        self.w = w\n",
        "        self.lr = lr\n",
        "        self.n_iter = n_iter\n",
        "        self.batch_size = batch_size\n",
        "        self.verbose = 1\n",
        "        \n",
        "    def _add_intercept(self, X):\n",
        "        return sp.hstack((np.ones((X.shape[0], 1)), X), format='csr')\n",
        "    \n",
        "    def _init_w(self, dim):\n",
        "        self.w = np.random.randn(dim)\n",
        "        \n",
        "    def _E_step(self, data, preds):\n",
        "        team_strength = pd.DataFrame({'team_id': data['team_id'],\n",
        "                                      'question_id': data['question_id'], \n",
        "                                      'team_strength': 1 - preds})\n",
        "        team_strength = team_strength.groupby(['team_id', 'question_id']).agg({'team_strength': 'prod'}).reset_index()\n",
        "        team_strength['team_strength'] = 1 - team_strength['team_strength']\n",
        "        team_strength = data[['team_id', 'question_id']].merge(team_strength)\n",
        "        y = np.clip(preds / team_strength['team_strength'], 0, 1).values # переведем к вероятностям\n",
        "        y[data['answer'] == 0] = 0\n",
        "        return y\n",
        "        \n",
        "    def _M_step(self, X, y):\n",
        "        # Обучаем LogReg батчевым градиентным спуском, чтобы выскакивать из локальных минимумов\n",
        "        min_loss = np.inf\n",
        "        indices = np.arange(X.shape[0])\n",
        "        for _ in range(100):\n",
        "            indices = np.random.permutation(indices)\n",
        "            for batch_idx in np.array_split(indices, len(indices) // self.batch_size):\n",
        "                x_batch, y_batch = X[batch_idx], y[batch_idx]\n",
        "                grad = x_batch.T.dot(self.predict(x_batch) - y_batch) / len(y_batch)\n",
        "                self.w -= self.lr * grad\n",
        "                \n",
        "            cur_loss = log_loss(y, self.predict(X))\n",
        "            if min_loss - cur_loss < 1e-6:\n",
        "                break\n",
        "                \n",
        "            min_loss = cur_loss\n",
        "                \n",
        "    def fit(self, X_tr, train_data, X_te=None, test_data=None):\n",
        "        X_tr = self._add_intercept(X_tr)\n",
        "        if self.w is None or len(self.w) != X_tr.shape[1]:\n",
        "            self._init_w(X_tr.shape[1])\n",
        "        \n",
        "        for iter_ in tqdm(range(self.n_iter)): \n",
        "            preds = self.predict(X_tr)\n",
        "            y = self._E_step(train_data, preds)\n",
        "            self._M_step(X_tr, y)\n",
        "            if self.verbose is not None and X_te is not None and test_data is not None and iter_ % self.verbose == 0:\n",
        "                compute_correlation(test_data, self.predict(X_te))\n",
        "                         \n",
        "    def predict(self, X):\n",
        "        if self.w is None:\n",
        "            raise ValueError('Model is not fitted yet!')\n",
        "        if len(self.w) != X.shape[1]:\n",
        "            X = self._add_intercept(X)\n",
        "        return expit(X.dot(self.w))"
      ],
      "execution_count": 42,
      "outputs": []
    },
    {
      "cell_type": "code",
      "metadata": {
        "id": "Ny_2pthlCeMX"
      },
      "source": [
        "w_init = np.hstack([lr_baseline.intercept_, lr_baseline.coef_[0]])\n",
        "em_classifier = EMClassifier(w_init)"
      ],
      "execution_count": 43,
      "outputs": []
    },
    {
      "cell_type": "code",
      "metadata": {
        "colab": {
          "base_uri": "https://localhost:8080/"
        },
        "id": "w4WU3BaWC_kl",
        "outputId": "1ad24741-e4ca-44be-b815-967c9873e54a"
      },
      "source": [
        "em_classifier.fit(X_train, df_train_res_players, X_test, df_test_players_in_train)"
      ],
      "execution_count": 44,
      "outputs": [
        {
          "output_type": "stream",
          "text": [
            " 10%|█         | 1/10 [04:40<42:02, 280.33s/it]"
          ],
          "name": "stderr"
        },
        {
          "output_type": "stream",
          "text": [
            "Корреляция Спирмана: 0.794264620964824\n",
            "Корреляция Кендалла: 0.6250322022283636\n"
          ],
          "name": "stdout"
        },
        {
          "output_type": "stream",
          "text": [
            "\r 20%|██        | 2/10 [07:01<31:48, 238.51s/it]"
          ],
          "name": "stderr"
        },
        {
          "output_type": "stream",
          "text": [
            "Корреляция Спирмана: 0.7986480664330139\n",
            "Корреляция Кендалла: 0.6284599272357874\n"
          ],
          "name": "stdout"
        },
        {
          "output_type": "stream",
          "text": [
            "\r 30%|███       | 3/10 [08:36<22:48, 195.46s/it]"
          ],
          "name": "stderr"
        },
        {
          "output_type": "stream",
          "text": [
            "Корреляция Спирмана: 0.7948292042465233\n",
            "Корреляция Кендалла: 0.6246989591280073\n"
          ],
          "name": "stdout"
        },
        {
          "output_type": "stream",
          "text": [
            "\r 40%|████      | 4/10 [12:14<20:12, 202.15s/it]"
          ],
          "name": "stderr"
        },
        {
          "output_type": "stream",
          "text": [
            "Корреляция Спирмана: 0.7940954462979186\n",
            "Корреляция Кендалла: 0.6232597734384703\n"
          ],
          "name": "stdout"
        },
        {
          "output_type": "stream",
          "text": [
            "\r 50%|█████     | 5/10 [15:55<17:20, 208.01s/it]"
          ],
          "name": "stderr"
        },
        {
          "output_type": "stream",
          "text": [
            "Корреляция Спирмана: 0.7947728192389487\n",
            "Корреляция Кендалла: 0.6247616338926392\n"
          ],
          "name": "stdout"
        },
        {
          "output_type": "stream",
          "text": [
            "\r 60%|██████    | 6/10 [17:25<11:30, 172.63s/it]"
          ],
          "name": "stderr"
        },
        {
          "output_type": "stream",
          "text": [
            "Корреляция Спирмана: 0.7946593342192035\n",
            "Корреляция Кендалла: 0.6242245215385305\n"
          ],
          "name": "stdout"
        },
        {
          "output_type": "stream",
          "text": [
            "\r 70%|███████   | 7/10 [19:19<07:44, 154.86s/it]"
          ],
          "name": "stderr"
        },
        {
          "output_type": "stream",
          "text": [
            "Корреляция Спирмана: 0.7957641869629156\n",
            "Корреляция Кендалла: 0.6248030158584809\n"
          ],
          "name": "stdout"
        },
        {
          "output_type": "stream",
          "text": [
            "\r 80%|████████  | 8/10 [21:43<05:03, 151.66s/it]"
          ],
          "name": "stderr"
        },
        {
          "output_type": "stream",
          "text": [
            "Корреляция Спирмана: 0.7967942102185664\n",
            "Корреляция Кендалла: 0.6259710637229831\n"
          ],
          "name": "stdout"
        },
        {
          "output_type": "stream",
          "text": [
            "\r 90%|█████████ | 9/10 [23:37<02:20, 140.33s/it]"
          ],
          "name": "stderr"
        },
        {
          "output_type": "stream",
          "text": [
            "Корреляция Спирмана: 0.7981471755265783\n",
            "Корреляция Кендалла: 0.6280347630232719\n"
          ],
          "name": "stdout"
        },
        {
          "output_type": "stream",
          "text": [
            "100%|██████████| 10/10 [24:57<00:00, 149.76s/it]"
          ],
          "name": "stderr"
        },
        {
          "output_type": "stream",
          "text": [
            "Корреляция Спирмана: 0.7988788831326677\n",
            "Корреляция Кендалла: 0.628603135268428\n"
          ],
          "name": "stdout"
        },
        {
          "output_type": "stream",
          "text": [
            "\n"
          ],
          "name": "stderr"
        }
      ]
    },
    {
      "cell_type": "markdown",
      "metadata": {
        "id": "wL0iiC3JF_GE"
      },
      "source": [
        "Есть неплохой прирост относительно baseline"
      ]
    },
    {
      "cell_type": "markdown",
      "metadata": {
        "id": "0aWYRji2KAkZ"
      },
      "source": [
        "## 5) А что там с вопросами? \n"
      ]
    },
    {
      "cell_type": "markdown",
      "metadata": {
        "id": "zzAL-ZFwKSbS"
      },
      "source": [
        "Постройте “рейтинг-лист” турниров по сложности вопросов. Соответствует ли он интуиции (например, на чемпионате мира в целом должны быть сложные вопросы, а на турнирах для школьников — простые)? Если будет интересно: постройте топ сложных и простых вопросов со ссылками на конкретные записи в базе вопросов ЧГК (это чисто техническое дело, тут никакого ML нету)."
      ]
    },
    {
      "cell_type": "markdown",
      "metadata": {
        "id": "nS5xSy22KOb9"
      },
      "source": [
        "Сложность турнира посчитаем как среднюю сложность вопроса - возьмем средние коэффициенты нашей модели."
      ]
    },
    {
      "cell_type": "code",
      "metadata": {
        "id": "YkW8iBeAK-B2"
      },
      "source": [
        "unique_questions = np.unique(df_train_res_players['question_id'])\n",
        "questions_rating = dict(zip(unique_questions, em_classifier.w[-len(unique_questions):]))\n",
        "\n",
        "df_train_res_players['difficulty'] = df_train_res_players['question_id'].map(questions_rating)"
      ],
      "execution_count": 45,
      "outputs": []
    },
    {
      "cell_type": "code",
      "metadata": {
        "id": "wiZ4JdivOtdo"
      },
      "source": [
        "df_train_res_players = df_train_res_players.merge(df_tournaments_train, how='left', on='tournament_id')"
      ],
      "execution_count": 46,
      "outputs": []
    },
    {
      "cell_type": "code",
      "metadata": {
        "id": "1ZEm1GYjLpOd"
      },
      "source": [
        "tournaments_rating = df_train_res_players[['tname', 'question_id', 'difficulty']].drop_duplicates()\n",
        "tournaments_rating = tournaments_rating.groupby('tname')['difficulty'].mean().sort_values().reset_index()"
      ],
      "execution_count": 47,
      "outputs": []
    },
    {
      "cell_type": "code",
      "metadata": {
        "colab": {
          "base_uri": "https://localhost:8080/",
          "height": 279
        },
        "id": "N2mDqfLpZ1id",
        "outputId": "7cff7bb6-f322-4b61-99d6-0fa3d5ff75a3"
      },
      "source": [
        "sns.distplot(tournaments_rating.difficulty);"
      ],
      "execution_count": 48,
      "outputs": [
        {
          "output_type": "display_data",
          "data": {
            "image/png": "[encoded data removed]",
            "text/plain": [
              "<Figure size 432x288 with 1 Axes>"
            ]
          },
          "metadata": {
            "tags": [],
            "needs_background": "light"
          }
        }
      ]
    },
    {
      "cell_type": "code",
      "metadata": {
        "colab": {
          "base_uri": "https://localhost:8080/",
          "height": 639
        },
        "id": "E89uRRKYLxpy",
        "outputId": "b9a1c6a2-ec66-4442-883b-f7e78d3dbf9a"
      },
      "source": [
        "# TOP-20 Самых сложных турниров по версии модели\n",
        "tournaments_rating.head(20)"
      ],
      "execution_count": 49,
      "outputs": [
        {
          "output_type": "execute_result",
          "data": {
            "text/html": [
              "<div>\n",
              "<style scoped>\n",
              "    .dataframe tbody tr th:only-of-type {\n",
              "        vertical-align: middle;\n",
              "    }\n",
              "\n",
              "    .dataframe tbody tr th {\n",
              "        vertical-align: top;\n",
              "    }\n",
              "\n",
              "    .dataframe thead th {\n",
              "        text-align: right;\n",
              "    }\n",
              "</style>\n",
              "<table border=\"1\" class=\"dataframe\">\n",
              "  <thead>\n",
              "    <tr style=\"text-align: right;\">\n",
              "      <th></th>\n",
              "      <th>tname</th>\n",
              "      <th>difficulty</th>\n",
              "    </tr>\n",
              "  </thead>\n",
              "  <tbody>\n",
              "    <tr>\n",
              "      <th>0</th>\n",
              "      <td>Чемпионат Санкт-Петербурга. Первая лига</td>\n",
              "      <td>-5.264520</td>\n",
              "    </tr>\n",
              "    <tr>\n",
              "      <th>1</th>\n",
              "      <td>Угрюмый Ёрш</td>\n",
              "      <td>-3.744897</td>\n",
              "    </tr>\n",
              "    <tr>\n",
              "      <th>2</th>\n",
              "      <td>Первенство правого полушария</td>\n",
              "      <td>-3.403242</td>\n",
              "    </tr>\n",
              "    <tr>\n",
              "      <th>3</th>\n",
              "      <td>Кубок городов</td>\n",
              "      <td>-2.969011</td>\n",
              "    </tr>\n",
              "    <tr>\n",
              "      <th>4</th>\n",
              "      <td>Воображаемый музей</td>\n",
              "      <td>-2.938452</td>\n",
              "    </tr>\n",
              "    <tr>\n",
              "      <th>5</th>\n",
              "      <td>Ускользающая сова</td>\n",
              "      <td>-2.835106</td>\n",
              "    </tr>\n",
              "    <tr>\n",
              "      <th>6</th>\n",
              "      <td>Записки охотника</td>\n",
              "      <td>-2.796460</td>\n",
              "    </tr>\n",
              "    <tr>\n",
              "      <th>7</th>\n",
              "      <td>Чемпионат России</td>\n",
              "      <td>-2.786695</td>\n",
              "    </tr>\n",
              "    <tr>\n",
              "      <th>8</th>\n",
              "      <td>All Cats Are Beautiful</td>\n",
              "      <td>-2.621887</td>\n",
              "    </tr>\n",
              "    <tr>\n",
              "      <th>9</th>\n",
              "      <td>VERSUS: Коробейников vs. Матвеев</td>\n",
              "      <td>-2.591273</td>\n",
              "    </tr>\n",
              "    <tr>\n",
              "      <th>10</th>\n",
              "      <td>Тихий Донец: омут первый</td>\n",
              "      <td>-2.580453</td>\n",
              "    </tr>\n",
              "    <tr>\n",
              "      <th>11</th>\n",
              "      <td>Ра-II: синхрон \"Борского корабела\"</td>\n",
              "      <td>-2.571209</td>\n",
              "    </tr>\n",
              "    <tr>\n",
              "      <th>12</th>\n",
              "      <td>Знание – Сила VI</td>\n",
              "      <td>-2.552108</td>\n",
              "    </tr>\n",
              "    <tr>\n",
              "      <th>13</th>\n",
              "      <td>Антибинго</td>\n",
              "      <td>-2.530505</td>\n",
              "    </tr>\n",
              "    <tr>\n",
              "      <th>14</th>\n",
              "      <td>Линч</td>\n",
              "      <td>-2.498655</td>\n",
              "    </tr>\n",
              "    <tr>\n",
              "      <th>15</th>\n",
              "      <td>Серия Premier. Седьмая печать</td>\n",
              "      <td>-2.481909</td>\n",
              "    </tr>\n",
              "    <tr>\n",
              "      <th>16</th>\n",
              "      <td>Кубок Москвы</td>\n",
              "      <td>-2.434013</td>\n",
              "    </tr>\n",
              "    <tr>\n",
              "      <th>17</th>\n",
              "      <td>Мемориал Дмитрия Коноваленко</td>\n",
              "      <td>-2.422034</td>\n",
              "    </tr>\n",
              "    <tr>\n",
              "      <th>18</th>\n",
              "      <td>Чемпионат Мира. Этап 2. Группа В</td>\n",
              "      <td>-2.403123</td>\n",
              "    </tr>\n",
              "    <tr>\n",
              "      <th>19</th>\n",
              "      <td>Чемпионат Мира. Этап 3. Группа В</td>\n",
              "      <td>-2.380589</td>\n",
              "    </tr>\n",
              "  </tbody>\n",
              "</table>\n",
              "</div>"
            ],
            "text/plain": [
              "                                      tname  difficulty\n",
              "0   Чемпионат Санкт-Петербурга. Первая лига   -5.264520\n",
              "1                               Угрюмый Ёрш   -3.744897\n",
              "2              Первенство правого полушария   -3.403242\n",
              "3                             Кубок городов   -2.969011\n",
              "4                        Воображаемый музей   -2.938452\n",
              "5                         Ускользающая сова   -2.835106\n",
              "6                          Записки охотника   -2.796460\n",
              "7                          Чемпионат России   -2.786695\n",
              "8                    All Cats Are Beautiful   -2.621887\n",
              "9          VERSUS: Коробейников vs. Матвеев   -2.591273\n",
              "10                 Тихий Донец: омут первый   -2.580453\n",
              "11       Ра-II: синхрон \"Борского корабела\"   -2.571209\n",
              "12                         Знание – Сила VI   -2.552108\n",
              "13                                Антибинго   -2.530505\n",
              "14                                     Линч   -2.498655\n",
              "15            Серия Premier. Седьмая печать   -2.481909\n",
              "16                             Кубок Москвы   -2.434013\n",
              "17             Мемориал Дмитрия Коноваленко   -2.422034\n",
              "18         Чемпионат Мира. Этап 2. Группа В   -2.403123\n",
              "19         Чемпионат Мира. Этап 3. Группа В   -2.380589"
            ]
          },
          "metadata": {
            "tags": []
          },
          "execution_count": 49
        }
      ]
    },
    {
      "cell_type": "code",
      "metadata": {
        "colab": {
          "base_uri": "https://localhost:8080/",
          "height": 639
        },
        "id": "aIeGZ3zyL2wv",
        "outputId": "72f0a383-3634-4365-c628-714929801183"
      },
      "source": [
        "# TOP-20 Самых простых турниров по версии модели\n",
        "tournaments_rating.tail(20).sort_values(by='difficulty',ascending=False)"
      ],
      "execution_count": 50,
      "outputs": [
        {
          "output_type": "execute_result",
          "data": {
            "text/html": [
              "<div>\n",
              "<style scoped>\n",
              "    .dataframe tbody tr th:only-of-type {\n",
              "        vertical-align: middle;\n",
              "    }\n",
              "\n",
              "    .dataframe tbody tr th {\n",
              "        vertical-align: top;\n",
              "    }\n",
              "\n",
              "    .dataframe thead th {\n",
              "        text-align: right;\n",
              "    }\n",
              "</style>\n",
              "<table border=\"1\" class=\"dataframe\">\n",
              "  <thead>\n",
              "    <tr style=\"text-align: right;\">\n",
              "      <th></th>\n",
              "      <th>tname</th>\n",
              "      <th>difficulty</th>\n",
              "    </tr>\n",
              "  </thead>\n",
              "  <tbody>\n",
              "    <tr>\n",
              "      <th>595</th>\n",
              "      <td>(а)Синхрон-lite. Лига старта. Эпизод V</td>\n",
              "      <td>3.728038</td>\n",
              "    </tr>\n",
              "    <tr>\n",
              "      <th>594</th>\n",
              "      <td>(а)Синхрон-lite. Лига старта. Эпизод III</td>\n",
              "      <td>3.547253</td>\n",
              "    </tr>\n",
              "    <tr>\n",
              "      <th>593</th>\n",
              "      <td>(а)Синхрон-lite. Лига старта. Эпизод IX</td>\n",
              "      <td>3.310530</td>\n",
              "    </tr>\n",
              "    <tr>\n",
              "      <th>592</th>\n",
              "      <td>(а)Синхрон-lite. Лига старта. Эпизод XI</td>\n",
              "      <td>3.307611</td>\n",
              "    </tr>\n",
              "    <tr>\n",
              "      <th>591</th>\n",
              "      <td>(а)Синхрон-lite. Лига старта. Эпизод VI</td>\n",
              "      <td>3.108716</td>\n",
              "    </tr>\n",
              "    <tr>\n",
              "      <th>590</th>\n",
              "      <td>(а)Синхрон-lite. Лига старта. Эпизод VII</td>\n",
              "      <td>3.089142</td>\n",
              "    </tr>\n",
              "    <tr>\n",
              "      <th>589</th>\n",
              "      <td>Второй тематический турнир имени Джоуи Триббиани</td>\n",
              "      <td>3.062030</td>\n",
              "    </tr>\n",
              "    <tr>\n",
              "      <th>588</th>\n",
              "      <td>Синхрон-lite. Выпуск XXX</td>\n",
              "      <td>2.944583</td>\n",
              "    </tr>\n",
              "    <tr>\n",
              "      <th>587</th>\n",
              "      <td>(а)Синхрон-lite. Лига старта. Эпизод IV</td>\n",
              "      <td>2.894080</td>\n",
              "    </tr>\n",
              "    <tr>\n",
              "      <th>586</th>\n",
              "      <td>(а)Синхрон-lite. Лига старта. Эпизод X</td>\n",
              "      <td>2.842132</td>\n",
              "    </tr>\n",
              "    <tr>\n",
              "      <th>585</th>\n",
              "      <td>KFC</td>\n",
              "      <td>2.750972</td>\n",
              "    </tr>\n",
              "    <tr>\n",
              "      <th>584</th>\n",
              "      <td>Лига Сибири. VI тур.</td>\n",
              "      <td>2.719378</td>\n",
              "    </tr>\n",
              "    <tr>\n",
              "      <th>583</th>\n",
              "      <td>Joystick Cup</td>\n",
              "      <td>2.614189</td>\n",
              "    </tr>\n",
              "    <tr>\n",
              "      <th>582</th>\n",
              "      <td>Лига Сибири. IV тур.</td>\n",
              "      <td>2.554681</td>\n",
              "    </tr>\n",
              "    <tr>\n",
              "      <th>581</th>\n",
              "      <td>Ничто, нигде, никогда</td>\n",
              "      <td>2.513768</td>\n",
              "    </tr>\n",
              "    <tr>\n",
              "      <th>580</th>\n",
              "      <td>Гарри Поттер и 3 по 12</td>\n",
              "      <td>2.500536</td>\n",
              "    </tr>\n",
              "    <tr>\n",
              "      <th>579</th>\n",
              "      <td>Лига вузов. IV тур</td>\n",
              "      <td>2.492093</td>\n",
              "    </tr>\n",
              "    <tr>\n",
              "      <th>578</th>\n",
              "      <td>Маленькае люстэрка</td>\n",
              "      <td>2.460772</td>\n",
              "    </tr>\n",
              "    <tr>\n",
              "      <th>577</th>\n",
              "      <td>Осенняя кинолига</td>\n",
              "      <td>2.427833</td>\n",
              "    </tr>\n",
              "    <tr>\n",
              "      <th>576</th>\n",
              "      <td>Студенческий чемпионат Калининградской области</td>\n",
              "      <td>2.426481</td>\n",
              "    </tr>\n",
              "  </tbody>\n",
              "</table>\n",
              "</div>"
            ],
            "text/plain": [
              "                                                tname  difficulty\n",
              "595            (а)Синхрон-lite. Лига старта. Эпизод V    3.728038\n",
              "594          (а)Синхрон-lite. Лига старта. Эпизод III    3.547253\n",
              "593           (а)Синхрон-lite. Лига старта. Эпизод IX    3.310530\n",
              "592           (а)Синхрон-lite. Лига старта. Эпизод XI    3.307611\n",
              "591           (а)Синхрон-lite. Лига старта. Эпизод VI    3.108716\n",
              "590          (а)Синхрон-lite. Лига старта. Эпизод VII    3.089142\n",
              "589  Второй тематический турнир имени Джоуи Триббиани    3.062030\n",
              "588                          Синхрон-lite. Выпуск XXX    2.944583\n",
              "587           (а)Синхрон-lite. Лига старта. Эпизод IV    2.894080\n",
              "586            (а)Синхрон-lite. Лига старта. Эпизод X    2.842132\n",
              "585                                               KFC    2.750972\n",
              "584                              Лига Сибири. VI тур.    2.719378\n",
              "583                                      Joystick Cup    2.614189\n",
              "582                              Лига Сибири. IV тур.    2.554681\n",
              "581                             Ничто, нигде, никогда    2.513768\n",
              "580                            Гарри Поттер и 3 по 12    2.500536\n",
              "579                                Лига вузов. IV тур    2.492093\n",
              "578                                Маленькае люстэрка    2.460772\n",
              "577                                  Осенняя кинолига    2.427833\n",
              "576    Студенческий чемпионат Калининградской области    2.426481"
            ]
          },
          "metadata": {
            "tags": []
          },
          "execution_count": 50
        }
      ]
    },
    {
      "cell_type": "markdown",
      "metadata": {
        "id": "RxFp0NmObL-r"
      },
      "source": [
        "## 6) Постройте топ игроков по предсказанной вашей моделью силе игры, а рядом с именами игроков напишите общее число вопросов, которое они сыграли."
      ]
    },
    {
      "cell_type": "code",
      "metadata": {
        "id": "kmKY2UtNbTvN"
      },
      "source": [
        "players_rating = pd.DataFrame({'player_id': players,\n",
        "                       'strength': em_classifier.w[1:1 + len(players)]})\n",
        "players_rating['questions_count'] = players_rating['player_id'].map(df_train_res_players.groupby('player_id')['question_id'].count())\n",
        "players_rating = players_rating.merge(df_players, how='inner', on='player_id')"
      ],
      "execution_count": 51,
      "outputs": []
    },
    {
      "cell_type": "code",
      "metadata": {
        "colab": {
          "base_uri": "https://localhost:8080/",
          "height": 1000
        },
        "id": "G-FqblPEb77l",
        "outputId": "5388a3c8-9e1f-456f-b66f-9f2f6af706d6"
      },
      "source": [
        "players_rating.sort_values(by='strength', ascending=False).head(50)"
      ],
      "execution_count": 52,
      "outputs": [
        {
          "output_type": "execute_result",
          "data": {
            "text/html": [
              "<div>\n",
              "<style scoped>\n",
              "    .dataframe tbody tr th:only-of-type {\n",
              "        vertical-align: middle;\n",
              "    }\n",
              "\n",
              "    .dataframe tbody tr th {\n",
              "        vertical-align: top;\n",
              "    }\n",
              "\n",
              "    .dataframe thead th {\n",
              "        text-align: right;\n",
              "    }\n",
              "</style>\n",
              "<table border=\"1\" class=\"dataframe\">\n",
              "  <thead>\n",
              "    <tr style=\"text-align: right;\">\n",
              "      <th></th>\n",
              "      <th>player_id</th>\n",
              "      <th>strength</th>\n",
              "      <th>questions_count</th>\n",
              "      <th>fname</th>\n",
              "    </tr>\n",
              "  </thead>\n",
              "  <tbody>\n",
              "    <tr>\n",
              "      <th>3766</th>\n",
              "      <td>27403</td>\n",
              "      <td>7.533775</td>\n",
              "      <td>1796</td>\n",
              "      <td>Максим Руссо</td>\n",
              "    </tr>\n",
              "    <tr>\n",
              "      <th>585</th>\n",
              "      <td>4270</td>\n",
              "      <td>7.319207</td>\n",
              "      <td>2240</td>\n",
              "      <td>Александра Брутер</td>\n",
              "    </tr>\n",
              "    <tr>\n",
              "      <th>3953</th>\n",
              "      <td>28751</td>\n",
              "      <td>7.293631</td>\n",
              "      <td>3071</td>\n",
              "      <td>Иван Семушин</td>\n",
              "    </tr>\n",
              "    <tr>\n",
              "      <th>3837</th>\n",
              "      <td>27822</td>\n",
              "      <td>7.241461</td>\n",
              "      <td>2666</td>\n",
              "      <td>Михаил Савченков</td>\n",
              "    </tr>\n",
              "    <tr>\n",
              "      <th>4137</th>\n",
              "      <td>30152</td>\n",
              "      <td>6.878911</td>\n",
              "      <td>4006</td>\n",
              "      <td>Артём Сорожкин</td>\n",
              "    </tr>\n",
              "    <tr>\n",
              "      <th>4157</th>\n",
              "      <td>30270</td>\n",
              "      <td>6.842704</td>\n",
              "      <td>3017</td>\n",
              "      <td>Сергей Спешков</td>\n",
              "    </tr>\n",
              "    <tr>\n",
              "      <th>2856</th>\n",
              "      <td>20691</td>\n",
              "      <td>6.499173</td>\n",
              "      <td>1370</td>\n",
              "      <td>Станислав Мереминский</td>\n",
              "    </tr>\n",
              "    <tr>\n",
              "      <th>9082</th>\n",
              "      <td>87637</td>\n",
              "      <td>6.371753</td>\n",
              "      <td>927</td>\n",
              "      <td>Антон Саксонов</td>\n",
              "    </tr>\n",
              "    <tr>\n",
              "      <th>2505</th>\n",
              "      <td>18036</td>\n",
              "      <td>6.324260</td>\n",
              "      <td>1113</td>\n",
              "      <td>Михаил Левандовский</td>\n",
              "    </tr>\n",
              "    <tr>\n",
              "      <th>964</th>\n",
              "      <td>7008</td>\n",
              "      <td>6.317377</td>\n",
              "      <td>3493</td>\n",
              "      <td>Алексей Гилёв</td>\n",
              "    </tr>\n",
              "    <tr>\n",
              "      <th>3162</th>\n",
              "      <td>22935</td>\n",
              "      <td>6.312388</td>\n",
              "      <td>1266</td>\n",
              "      <td>Илья Новиков</td>\n",
              "    </tr>\n",
              "    <tr>\n",
              "      <th>7960</th>\n",
              "      <td>74001</td>\n",
              "      <td>6.306884</td>\n",
              "      <td>900</td>\n",
              "      <td>Игорь Мокин</td>\n",
              "    </tr>\n",
              "    <tr>\n",
              "      <th>6557</th>\n",
              "      <td>56647</td>\n",
              "      <td>6.240199</td>\n",
              "      <td>1769</td>\n",
              "      <td>Наталья Горелова</td>\n",
              "    </tr>\n",
              "    <tr>\n",
              "      <th>2545</th>\n",
              "      <td>18332</td>\n",
              "      <td>6.227314</td>\n",
              "      <td>2901</td>\n",
              "      <td>Александр Либер</td>\n",
              "    </tr>\n",
              "    <tr>\n",
              "      <th>2335</th>\n",
              "      <td>16837</td>\n",
              "      <td>6.223399</td>\n",
              "      <td>2111</td>\n",
              "      <td>Наталья Кудряшова</td>\n",
              "    </tr>\n",
              "    <tr>\n",
              "      <th>2996</th>\n",
              "      <td>21698</td>\n",
              "      <td>6.193929</td>\n",
              "      <td>838</td>\n",
              "      <td>Александр Мосягин</td>\n",
              "    </tr>\n",
              "    <tr>\n",
              "      <th>3587</th>\n",
              "      <td>26089</td>\n",
              "      <td>6.170002</td>\n",
              "      <td>652</td>\n",
              "      <td>Ирина Прокофьева</td>\n",
              "    </tr>\n",
              "    <tr>\n",
              "      <th>3285</th>\n",
              "      <td>23737</td>\n",
              "      <td>6.155242</td>\n",
              "      <td>2088</td>\n",
              "      <td>Андрей Островский</td>\n",
              "    </tr>\n",
              "    <tr>\n",
              "      <th>5053</th>\n",
              "      <td>37047</td>\n",
              "      <td>6.114715</td>\n",
              "      <td>452</td>\n",
              "      <td>Мария Юнгер</td>\n",
              "    </tr>\n",
              "    <tr>\n",
              "      <th>2261</th>\n",
              "      <td>16332</td>\n",
              "      <td>6.113714</td>\n",
              "      <td>1319</td>\n",
              "      <td>Николай Крапиль</td>\n",
              "    </tr>\n",
              "    <tr>\n",
              "      <th>4753</th>\n",
              "      <td>34846</td>\n",
              "      <td>6.094427</td>\n",
              "      <td>1346</td>\n",
              "      <td>Антон Чернин</td>\n",
              "    </tr>\n",
              "    <tr>\n",
              "      <th>3362</th>\n",
              "      <td>24384</td>\n",
              "      <td>6.084964</td>\n",
              "      <td>1224</td>\n",
              "      <td>Евгений Пашковский</td>\n",
              "    </tr>\n",
              "    <tr>\n",
              "      <th>218</th>\n",
              "      <td>1585</td>\n",
              "      <td>6.061642</td>\n",
              "      <td>1355</td>\n",
              "      <td>Юлия Архангельская</td>\n",
              "    </tr>\n",
              "    <tr>\n",
              "      <th>7998</th>\n",
              "      <td>74382</td>\n",
              "      <td>6.058108</td>\n",
              "      <td>2440</td>\n",
              "      <td>Михаил Новосёлов</td>\n",
              "    </tr>\n",
              "    <tr>\n",
              "      <th>2753</th>\n",
              "      <td>19915</td>\n",
              "      <td>6.052936</td>\n",
              "      <td>2473</td>\n",
              "      <td>Александр Марков</td>\n",
              "    </tr>\n",
              "    <tr>\n",
              "      <th>1868</th>\n",
              "      <td>13689</td>\n",
              "      <td>6.035026</td>\n",
              "      <td>1097</td>\n",
              "      <td>Дмитрий Карякин</td>\n",
              "    </tr>\n",
              "    <tr>\n",
              "      <th>854</th>\n",
              "      <td>6212</td>\n",
              "      <td>6.003435</td>\n",
              "      <td>2644</td>\n",
              "      <td>Юрий Выменец</td>\n",
              "    </tr>\n",
              "    <tr>\n",
              "      <th>3196</th>\n",
              "      <td>23178</td>\n",
              "      <td>5.992376</td>\n",
              "      <td>1890</td>\n",
              "      <td>Елизавета Овдеенко</td>\n",
              "    </tr>\n",
              "    <tr>\n",
              "      <th>2764</th>\n",
              "      <td>20001</td>\n",
              "      <td>5.961814</td>\n",
              "      <td>1254</td>\n",
              "      <td>Александр Мартынов</td>\n",
              "    </tr>\n",
              "    <tr>\n",
              "      <th>3146</th>\n",
              "      <td>22799</td>\n",
              "      <td>5.957594</td>\n",
              "      <td>1806</td>\n",
              "      <td>Сергей Николенко</td>\n",
              "    </tr>\n",
              "    <tr>\n",
              "      <th>2921</th>\n",
              "      <td>21137</td>\n",
              "      <td>5.955956</td>\n",
              "      <td>608</td>\n",
              "      <td>Кирилл Михайлов</td>\n",
              "    </tr>\n",
              "    <tr>\n",
              "      <th>2031</th>\n",
              "      <td>14786</td>\n",
              "      <td>5.930477</td>\n",
              "      <td>2612</td>\n",
              "      <td>Николай Коврижных</td>\n",
              "    </tr>\n",
              "    <tr>\n",
              "      <th>2525</th>\n",
              "      <td>18194</td>\n",
              "      <td>5.907725</td>\n",
              "      <td>935</td>\n",
              "      <td>Мария Кленницкая</td>\n",
              "    </tr>\n",
              "    <tr>\n",
              "      <th>3387</th>\n",
              "      <td>24543</td>\n",
              "      <td>5.904765</td>\n",
              "      <td>1202</td>\n",
              "      <td>Евгений Перпер</td>\n",
              "    </tr>\n",
              "    <tr>\n",
              "      <th>2796</th>\n",
              "      <td>20207</td>\n",
              "      <td>5.868010</td>\n",
              "      <td>904</td>\n",
              "      <td>Михаил Матвеев</td>\n",
              "    </tr>\n",
              "    <tr>\n",
              "      <th>4508</th>\n",
              "      <td>33032</td>\n",
              "      <td>5.863695</td>\n",
              "      <td>2738</td>\n",
              "      <td>Татьяна Фёдорова</td>\n",
              "    </tr>\n",
              "    <tr>\n",
              "      <th>880</th>\n",
              "      <td>6482</td>\n",
              "      <td>5.838704</td>\n",
              "      <td>2547</td>\n",
              "      <td>Ким Галачян</td>\n",
              "    </tr>\n",
              "    <tr>\n",
              "      <th>4904</th>\n",
              "      <td>36035</td>\n",
              "      <td>5.822132</td>\n",
              "      <td>1596</td>\n",
              "      <td>Алексей Шередега</td>\n",
              "    </tr>\n",
              "    <tr>\n",
              "      <th>9920</th>\n",
              "      <td>96330</td>\n",
              "      <td>5.816119</td>\n",
              "      <td>3726</td>\n",
              "      <td>Наталья Комар</td>\n",
              "    </tr>\n",
              "    <tr>\n",
              "      <th>65</th>\n",
              "      <td>505</td>\n",
              "      <td>5.815634</td>\n",
              "      <td>1730</td>\n",
              "      <td>Иделия Айзятулова</td>\n",
              "    </tr>\n",
              "    <tr>\n",
              "      <th>505</th>\n",
              "      <td>3671</td>\n",
              "      <td>5.785149</td>\n",
              "      <td>608</td>\n",
              "      <td>Алексей Богословский</td>\n",
              "    </tr>\n",
              "    <tr>\n",
              "      <th>2175</th>\n",
              "      <td>15727</td>\n",
              "      <td>5.772743</td>\n",
              "      <td>1175</td>\n",
              "      <td>Александр Коробейников</td>\n",
              "    </tr>\n",
              "    <tr>\n",
              "      <th>5169</th>\n",
              "      <td>37718</td>\n",
              "      <td>5.768984</td>\n",
              "      <td>1949</td>\n",
              "      <td>Дмитрий Петров</td>\n",
              "    </tr>\n",
              "    <tr>\n",
              "      <th>2399</th>\n",
              "      <td>17296</td>\n",
              "      <td>5.767423</td>\n",
              "      <td>1863</td>\n",
              "      <td>Виталий Кунашко</td>\n",
              "    </tr>\n",
              "    <tr>\n",
              "      <th>2149</th>\n",
              "      <td>15595</td>\n",
              "      <td>5.755529</td>\n",
              "      <td>2381</td>\n",
              "      <td>Кристина Кораблина</td>\n",
              "    </tr>\n",
              "    <tr>\n",
              "      <th>575</th>\n",
              "      <td>4226</td>\n",
              "      <td>5.749422</td>\n",
              "      <td>518</td>\n",
              "      <td>Сусанна Бровер</td>\n",
              "    </tr>\n",
              "    <tr>\n",
              "      <th>3944</th>\n",
              "      <td>28689</td>\n",
              "      <td>5.748227</td>\n",
              "      <td>2150</td>\n",
              "      <td>Инна Семёнова</td>\n",
              "    </tr>\n",
              "    <tr>\n",
              "      <th>4496</th>\n",
              "      <td>32901</td>\n",
              "      <td>5.741265</td>\n",
              "      <td>2739</td>\n",
              "      <td>Наиль Фарукшин</td>\n",
              "    </tr>\n",
              "    <tr>\n",
              "      <th>7658</th>\n",
              "      <td>70750</td>\n",
              "      <td>5.739854</td>\n",
              "      <td>2107</td>\n",
              "      <td>Денис Галиакберов</td>\n",
              "    </tr>\n",
              "    <tr>\n",
              "      <th>4276</th>\n",
              "      <td>31184</td>\n",
              "      <td>5.704811</td>\n",
              "      <td>1676</td>\n",
              "      <td>Эльман Талыбов</td>\n",
              "    </tr>\n",
              "  </tbody>\n",
              "</table>\n",
              "</div>"
            ],
            "text/plain": [
              "      player_id  strength  questions_count                   fname\n",
              "3766      27403  7.533775             1796            Максим Руссо\n",
              "585        4270  7.319207             2240       Александра Брутер\n",
              "3953      28751  7.293631             3071            Иван Семушин\n",
              "3837      27822  7.241461             2666        Михаил Савченков\n",
              "4137      30152  6.878911             4006          Артём Сорожкин\n",
              "4157      30270  6.842704             3017          Сергей Спешков\n",
              "2856      20691  6.499173             1370   Станислав Мереминский\n",
              "9082      87637  6.371753              927          Антон Саксонов\n",
              "2505      18036  6.324260             1113     Михаил Левандовский\n",
              "964        7008  6.317377             3493           Алексей Гилёв\n",
              "3162      22935  6.312388             1266            Илья Новиков\n",
              "7960      74001  6.306884              900             Игорь Мокин\n",
              "6557      56647  6.240199             1769        Наталья Горелова\n",
              "2545      18332  6.227314             2901         Александр Либер\n",
              "2335      16837  6.223399             2111       Наталья Кудряшова\n",
              "2996      21698  6.193929              838       Александр Мосягин\n",
              "3587      26089  6.170002              652        Ирина Прокофьева\n",
              "3285      23737  6.155242             2088       Андрей Островский\n",
              "5053      37047  6.114715              452             Мария Юнгер\n",
              "2261      16332  6.113714             1319         Николай Крапиль\n",
              "4753      34846  6.094427             1346            Антон Чернин\n",
              "3362      24384  6.084964             1224      Евгений Пашковский\n",
              "218        1585  6.061642             1355      Юлия Архангельская\n",
              "7998      74382  6.058108             2440        Михаил Новосёлов\n",
              "2753      19915  6.052936             2473        Александр Марков\n",
              "1868      13689  6.035026             1097         Дмитрий Карякин\n",
              "854        6212  6.003435             2644            Юрий Выменец\n",
              "3196      23178  5.992376             1890      Елизавета Овдеенко\n",
              "2764      20001  5.961814             1254      Александр Мартынов\n",
              "3146      22799  5.957594             1806        Сергей Николенко\n",
              "2921      21137  5.955956              608         Кирилл Михайлов\n",
              "2031      14786  5.930477             2612       Николай Коврижных\n",
              "2525      18194  5.907725              935        Мария Кленницкая\n",
              "3387      24543  5.904765             1202          Евгений Перпер\n",
              "2796      20207  5.868010              904          Михаил Матвеев\n",
              "4508      33032  5.863695             2738        Татьяна Фёдорова\n",
              "880        6482  5.838704             2547             Ким Галачян\n",
              "4904      36035  5.822132             1596        Алексей Шередега\n",
              "9920      96330  5.816119             3726           Наталья Комар\n",
              "65          505  5.815634             1730       Иделия Айзятулова\n",
              "505        3671  5.785149              608    Алексей Богословский\n",
              "2175      15727  5.772743             1175  Александр Коробейников\n",
              "5169      37718  5.768984             1949          Дмитрий Петров\n",
              "2399      17296  5.767423             1863         Виталий Кунашко\n",
              "2149      15595  5.755529             2381      Кристина Кораблина\n",
              "575        4226  5.749422              518          Сусанна Бровер\n",
              "3944      28689  5.748227             2150           Инна Семёнова\n",
              "4496      32901  5.741265             2739          Наиль Фарукшин\n",
              "7658      70750  5.739854             2107       Денис Галиакберов\n",
              "4276      31184  5.704811             1676          Эльман Талыбов"
            ]
          },
          "metadata": {
            "tags": []
          },
          "execution_count": 52
        }
      ]
    }
  ]
}